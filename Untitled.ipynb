{
 "cells": [
  {
   "cell_type": "code",
   "execution_count": 1,
   "metadata": {},
   "outputs": [],
   "source": [
    "import pandas as pd\n",
    "from sklearn.model_selection import train_test_split\n",
    "from sklearn import preprocessing\n",
    "from sklearn import metrics\n",
    "import matplotlib.pyplot as plt\n",
    "import numpy as np\n",
    "from sklearn.metrics import roc_auc_score\n",
    "from imblearn.over_sampling import SMOTE"
   ]
  },
  {
   "cell_type": "code",
   "execution_count": 2,
   "metadata": {
    "collapsed": true
   },
   "outputs": [],
   "source": [
    "%matplotlib inline"
   ]
  },
  {
   "cell_type": "markdown",
   "metadata": {},
   "source": [
    "# Input data"
   ]
  },
  {
   "cell_type": "code",
   "execution_count": 23,
   "metadata": {},
   "outputs": [],
   "source": [
    "data_file = '/home/zyan/program/ml/datasets/PlainData.dat'"
   ]
  },
  {
   "cell_type": "code",
   "execution_count": 24,
   "metadata": {},
   "outputs": [],
   "source": [
    "data = pd.read_csv(data_file,sep='\\s+')"
   ]
  },
  {
   "cell_type": "code",
   "execution_count": 25,
   "metadata": {},
   "outputs": [],
   "source": [
    "data.columns = ['label','process_id','lepton','photon','jet','met','ht','pt','pq']\n"
   ]
  },
  {
   "cell_type": "code",
   "execution_count": 26,
   "metadata": {},
   "outputs": [],
   "source": [
    "data_clean_condition  = (data['pt']!=-999) & (data['pq']!=-999) &  (data['lepton']>=1) & (data['photon']>=1) & (data['jet']<=2)"
   ]
  },
  {
   "cell_type": "code",
   "execution_count": 28,
   "metadata": {},
   "outputs": [],
   "source": [
    "particle_type = (data['process_id']%100==1) | (data['process_id']>1000)"
   ]
  },
  {
   "cell_type": "code",
   "execution_count": 29,
   "metadata": {},
   "outputs": [
    {
     "name": "stderr",
     "output_type": "stream",
     "text": [
      "/home/zyan/anaconda3/envs/tensorflow/lib/python3.6/site-packages/ipykernel/__main__.py:1: UserWarning: Boolean Series key will be reindexed to match DataFrame index.\n",
      "  if __name__ == '__main__':\n"
     ]
    }
   ],
   "source": [
    "data = data[data_clean_condition & particle_type]"
   ]
  },
  {
   "cell_type": "code",
   "execution_count": 11,
   "metadata": {
    "collapsed": true
   },
   "outputs": [],
   "source": [
    "y= data['label']\n",
    "x = data.drop(['label','process_id'],axis=1)"
   ]
  },
  {
   "cell_type": "code",
   "execution_count": 12,
   "metadata": {},
   "outputs": [
    {
     "data": {
      "text/plain": [
       "Index(['lepton', 'photon', 'jet', 'met', 'ht', 'pt', 'pq'], dtype='object')"
      ]
     },
     "execution_count": 12,
     "metadata": {},
     "output_type": "execute_result"
    }
   ],
   "source": [
    "x.columns"
   ]
  },
  {
   "cell_type": "code",
   "execution_count": 13,
   "metadata": {
    "collapsed": true
   },
   "outputs": [],
   "source": [
    "scaler = preprocessing.StandardScaler().fit(x)"
   ]
  },
  {
   "cell_type": "code",
   "execution_count": 14,
   "metadata": {
    "collapsed": true
   },
   "outputs": [],
   "source": [
    "x_scaled = scaler.transform(x)"
   ]
  },
  {
   "cell_type": "code",
   "execution_count": 15,
   "metadata": {
    "collapsed": true
   },
   "outputs": [],
   "source": [
    "x_train,x_test,y_train,y_test = train_test_split(x_scaled,y,test_size=0.3)"
   ]
  },
  {
   "cell_type": "markdown",
   "metadata": {},
   "source": [
    "# OverSample"
   ]
  },
  {
   "cell_type": "code",
   "execution_count": 16,
   "metadata": {
    "collapsed": true
   },
   "outputs": [],
   "source": [
    "x_resample,y_resample = SMOTE().fit_sample(x_train,y_train)"
   ]
  },
  {
   "cell_type": "code",
   "execution_count": 17,
   "metadata": {},
   "outputs": [
    {
     "data": {
      "text/plain": [
       "(3965525,)"
      ]
     },
     "execution_count": 17,
     "metadata": {},
     "output_type": "execute_result"
    }
   ],
   "source": [
    "y_train.shape"
   ]
  },
  {
   "cell_type": "code",
   "execution_count": 18,
   "metadata": {},
   "outputs": [
    {
     "data": {
      "text/plain": [
       "(7866576,)"
      ]
     },
     "execution_count": 18,
     "metadata": {},
     "output_type": "execute_result"
    }
   ],
   "source": [
    "y_resample.shape"
   ]
  },
  {
   "cell_type": "markdown",
   "metadata": {},
   "source": [
    "# Decision Tree"
   ]
  },
  {
   "cell_type": "code",
   "execution_count": null,
   "metadata": {
    "collapsed": true
   },
   "outputs": [],
   "source": [
    "from sklearn.tree import DecisionTreeClassifier"
   ]
  },
  {
   "cell_type": "code",
   "execution_count": 101,
   "metadata": {
    "collapsed": true
   },
   "outputs": [],
   "source": [
    "tree_reg = DecisionTreeClassifier(max_depth=3)"
   ]
  },
  {
   "cell_type": "code",
   "execution_count": 102,
   "metadata": {},
   "outputs": [
    {
     "data": {
      "text/plain": [
       "DecisionTreeClassifier(class_weight=None, criterion='gini', max_depth=3,\n",
       "            max_features=None, max_leaf_nodes=None,\n",
       "            min_impurity_decrease=0.0, min_impurity_split=None,\n",
       "            min_samples_leaf=1, min_samples_split=2,\n",
       "            min_weight_fraction_leaf=0.0, presort=False, random_state=None,\n",
       "            splitter='best')"
      ]
     },
     "execution_count": 102,
     "metadata": {},
     "output_type": "execute_result"
    }
   ],
   "source": [
    "tree_reg.fit(x_resample,y_resample)"
   ]
  },
  {
   "cell_type": "code",
   "execution_count": 103,
   "metadata": {
    "collapsed": true
   },
   "outputs": [],
   "source": [
    "y_train_predict = tree_reg.predict(x_train)"
   ]
  },
  {
   "cell_type": "code",
   "execution_count": 104,
   "metadata": {
    "collapsed": true
   },
   "outputs": [],
   "source": [
    "from sklearn.metrics import accuracy_score"
   ]
  },
  {
   "cell_type": "code",
   "execution_count": 105,
   "metadata": {},
   "outputs": [
    {
     "data": {
      "text/plain": [
       "0.75700600408218"
      ]
     },
     "execution_count": 105,
     "metadata": {},
     "output_type": "execute_result"
    }
   ],
   "source": [
    "accuracy_score(y_train,y_train_predict)"
   ]
  },
  {
   "cell_type": "code",
   "execution_count": 106,
   "metadata": {
    "collapsed": true
   },
   "outputs": [],
   "source": [
    "y_test_predict = tree_reg.predict(x_test)"
   ]
  },
  {
   "cell_type": "code",
   "execution_count": 107,
   "metadata": {},
   "outputs": [
    {
     "data": {
      "text/plain": [
       "0.7573956269336393"
      ]
     },
     "execution_count": 107,
     "metadata": {},
     "output_type": "execute_result"
    }
   ],
   "source": [
    "accuracy_score(y_test,y_test_predict)"
   ]
  },
  {
   "cell_type": "code",
   "execution_count": 109,
   "metadata": {},
   "outputs": [
    {
     "data": {
      "text/plain": [
       "0.7650333440623177"
      ]
     },
     "execution_count": 109,
     "metadata": {},
     "output_type": "execute_result"
    }
   ],
   "source": [
    "roc_auc_score(y_train,y_train_predict)"
   ]
  },
  {
   "cell_type": "code",
   "execution_count": 110,
   "metadata": {},
   "outputs": [
    {
     "data": {
      "text/plain": [
       "0.7638967207814966"
      ]
     },
     "execution_count": 110,
     "metadata": {},
     "output_type": "execute_result"
    }
   ],
   "source": [
    "roc_auc_score(y_test,y_test_predict)"
   ]
  },
  {
   "cell_type": "code",
   "execution_count": 111,
   "metadata": {
    "collapsed": true
   },
   "outputs": [],
   "source": [
    "y_test_predict_pro = tree_reg.predict_proba(x_test)"
   ]
  },
  {
   "cell_type": "code",
   "execution_count": 30,
   "metadata": {
    "collapsed": true
   },
   "outputs": [],
   "source": [
    "import numpy as np"
   ]
  },
  {
   "cell_type": "code",
   "execution_count": 31,
   "metadata": {},
   "outputs": [
    {
     "data": {
      "text/plain": [
       "array([0.26009189, 0.77047619, 0.78922717, 0.94983776, 0.95872426,\n",
       "       0.9902427 , 0.99153783, 0.9984642 ])"
      ]
     },
     "execution_count": 31,
     "metadata": {},
     "output_type": "execute_result"
    }
   ],
   "source": [
    "np.unique(y_test_predict_pro[:,0])"
   ]
  },
  {
   "cell_type": "code",
   "execution_count": 32,
   "metadata": {
    "collapsed": true
   },
   "outputs": [],
   "source": [
    "from sklearn import metrics"
   ]
  },
  {
   "cell_type": "code",
   "execution_count": 33,
   "metadata": {
    "collapsed": true
   },
   "outputs": [],
   "source": [
    "fpr, tpr,thresholds = metrics.roc_curve(y_test,y_test_predict_pro[:,1])"
   ]
  },
  {
   "cell_type": "code",
   "execution_count": 34,
   "metadata": {
    "collapsed": true
   },
   "outputs": [],
   "source": [
    "import matplotlib.pyplot as plt"
   ]
  },
  {
   "cell_type": "code",
   "execution_count": 35,
   "metadata": {},
   "outputs": [
    {
     "data": {
      "text/plain": [
       "[<matplotlib.lines.Line2D at 0x7f1ece347b38>]"
      ]
     },
     "execution_count": 35,
     "metadata": {},
     "output_type": "execute_result"
    },
    {
     "data": {
      "image/png": "[encoded data removed]",
      "text/plain": [
       "<Figure size 432x288 with 1 Axes>"
      ]
     },
     "metadata": {},
     "output_type": "display_data"
    }
   ],
   "source": [
    "plt.plot(tpr,1-fpr)"
   ]
  },
  {
   "cell_type": "code",
   "execution_count": 36,
   "metadata": {
    "collapsed": true
   },
   "outputs": [],
   "source": [
    "y_all_pred_pro = tree_reg.predict_proba(x_scaled)"
   ]
  },
  {
   "cell_type": "code",
   "execution_count": 37,
   "metadata": {},
   "outputs": [
    {
     "data": {
      "text/plain": [
       "array([[0.99153783, 0.00846217],\n",
       "       [0.95872426, 0.04127574],\n",
       "       [0.95872426, 0.04127574],\n",
       "       ...,\n",
       "       [0.99153783, 0.00846217],\n",
       "       [0.99153783, 0.00846217],\n",
       "       [0.95872426, 0.04127574]])"
      ]
     },
     "execution_count": 37,
     "metadata": {},
     "output_type": "execute_result"
    }
   ],
   "source": [
    "y_all_pred_pro"
   ]
  },
  {
   "cell_type": "code",
   "execution_count": 38,
   "metadata": {},
   "outputs": [
    {
     "data": {
      "text/plain": [
       "(5665037, 7)"
      ]
     },
     "execution_count": 38,
     "metadata": {},
     "output_type": "execute_result"
    }
   ],
   "source": [
    "x_scaled.shape"
   ]
  },
  {
   "cell_type": "code",
   "execution_count": 39,
   "metadata": {
    "collapsed": true
   },
   "outputs": [],
   "source": [
    "data['prediction'] = y_all_pred_pro[:,1]"
   ]
  },
  {
   "cell_type": "code",
   "execution_count": 40,
   "metadata": {
    "collapsed": true
   },
   "outputs": [],
   "source": [
    "a = np.array(data['prediction'])"
   ]
  },
  {
   "cell_type": "code",
   "execution_count": 41,
   "metadata": {},
   "outputs": [
    {
     "data": {
      "text/plain": [
       "array([0.00846217, 0.04127574, 0.04127574, ..., 0.00846217, 0.00846217,\n",
       "       0.04127574])"
      ]
     },
     "execution_count": 41,
     "metadata": {},
     "output_type": "execute_result"
    }
   ],
   "source": [
    "a"
   ]
  },
  {
   "cell_type": "code",
   "execution_count": 42,
   "metadata": {},
   "outputs": [
    {
     "data": {
      "text/plain": [
       "(array([      0.,       0.,       0.,       0.,       0.,       0.,\n",
       "              0.,       0.,       0.,       0.,       0.,       0.,\n",
       "              0.,       0.,       0.,       0.,       0.,       0.,\n",
       "              0.,       0.,       0.,       0.,       0.,       0.,\n",
       "              0.,       0.,       0.,       0.,       0.,       0.,\n",
       "              0.,       0.,       0.,       0.,       0.,       0.,\n",
       "              0.,       0.,       0.,       0.,       0.,       0.,\n",
       "              0.,       0.,       0.,       0.,       0.,       0.,\n",
       "              0.,       0.,       0.,       0.,       0.,       0.,\n",
       "              0.,       0.,       0.,       0.,       0.,       0.,\n",
       "              0.,       0.,       0.,       0.,       0.,       0.,\n",
       "              0.,       0.,       0.,       0.,       0.,       0.,\n",
       "              0.,       0.,       0.,       0.,       0.,       0.,\n",
       "              0.,       0.,       0.,       0.,       0.,       0.,\n",
       "              0.,       0.,       0.,       0.,       0.,       0.,\n",
       "              0.,       0.,       0.,       0.,       0.,       0.,\n",
       "              0.,       0.,       0.,       0.,       0.,       0.,\n",
       "              0.,       0.,       0.,       0.,       0.,       0.,\n",
       "              0.,       0.,       0.,       0.,       0.,       0.,\n",
       "              0.,       0.,       0.,       0.,       0.,       0.,\n",
       "              0.,       0.,       0.,       0.,       0.,       0.,\n",
       "              0.,       0.,       0.,       0.,       0.,       0.,\n",
       "              0.,       0.,       0.,       0.,       0.,       0.,\n",
       "              0.,       0.,       0.,       0.,       0.,       0.,\n",
       "              0.,       0.,       0.,       0.,       0.,       0.,\n",
       "              0.,       0.,       0.,       0.,       0.,       0.,\n",
       "              0.,       0.,       0.,       0.,       0.,       0.,\n",
       "              0.,       0.,       0.,       0.,       0.,       0.,\n",
       "              0.,       0.,       0.,       0.,       0.,       0.,\n",
       "              0.,       0.,       0.,       0.,       0.,       0.,\n",
       "              0.,       0.,       0.,       0.,       0.,       0.,\n",
       "              0.,       0.,       0.,       0.,       0.,       0.,\n",
       "              0.,       0.,       0.,       0.,       0.,       0.,\n",
       "              0.,       0.,       0.,       0.,       0.,       0.,\n",
       "              0.,       0.,       0.,       0.,       0.,       0.,\n",
       "              0.,       0.,       0.,       0.,       0.,       0.,\n",
       "              0.,       0.,       0.,       0.,       0.,       0.,\n",
       "              0.,       0.,       0.,       0.,       0.,       0.,\n",
       "              0.,       0.,       0.,       0.,       0.,       0.,\n",
       "              0.,       0.,       0.,       0.,       0.,       0.,\n",
       "              0.,       0.,       0.,       0.,       0.,       0.,\n",
       "              0.,       0.,       0.,   16292.,       0.,       0.,\n",
       "              0.,       0.,       0.,       0.,       0.,       0.,\n",
       "              0.,       0.,       0.,       0.,       0.,       0.,\n",
       "              0.,       0.,       0.,       0.,       0.,       0.,\n",
       "              0.,       0.,       0.,       0.,       0.,       0.,\n",
       "              0.,       0.,       0.,       0.,       0.,       0.,\n",
       "              0.,       0.,       0.,       0.,       0.,       0.,\n",
       "              0.,       0.,       0.,       0.,       0.,  523326.,\n",
       "              0.,       0.,       0.,       0.,       0.,       0.,\n",
       "              0.,       0.,       0.,       0.,       0.,       0.,\n",
       "              0.,       0.,       0.,       0.,       0.,       0.,\n",
       "              0.,       0.,       0.,       0.,       0.,       0.,\n",
       "              0.,       0.,       0.,       0.,       0.,       0.,\n",
       "              0.,       0.,       0.,       0.,       0.,       0.,\n",
       "              0.,       0.,       0.,       0.,       0.,       0.,\n",
       "              0.,       0.,       0.,       0.,       0.,       0.,\n",
       "              0.,       0.,       0.,       0.,       0.,       0.,\n",
       "              0.,       0.,       0.,       0.,       0.,       0.,\n",
       "              0.,       0.,       0.,       0.,       0.,       0.,\n",
       "              0.,       0.,       0.,       0.,       0.,       0.,\n",
       "              0.,       0.,       0.,       0.,       0.,       0.,\n",
       "              0.,       0.,       0.,       0.,       0.,       0.,\n",
       "              0.,       0.,       0.,       0.,       0.,       0.,\n",
       "              0.,       0.,       0.,       0.,       0.,       0.,\n",
       "              0.,       0.,       0.,       0.,       0.,       0.,\n",
       "              0.,       0.,       0.,       0.,       0.,       0.,\n",
       "              0.,       0.,       0.,       0.,       0.,       0.,\n",
       "              0.,       0.,       0.,       0.,       0.,       0.,\n",
       "              0.,       0.,       0.,       0.,       0.,       0.,\n",
       "              0.,       0.,       0.,       0.,       0.,       0.,\n",
       "              0.,       0.,       0.,       0.,       0.,       0.,\n",
       "              0.,       0.,       0.,       0.,       0.,       0.,\n",
       "              0.,       0.,       0.,       0.,       0.,       0.,\n",
       "              0.,       0.,       0.,       0.,       0.,       0.,\n",
       "              0.,   17581.,       0.,       0.,       0.,       0.,\n",
       "              0., 1189171.,       0.,       0.,       0.,       0.,\n",
       "              0.,       0.,       0.,       0.,       0.,       0.,\n",
       "              0.,       0.,       0.,       0.,       0.,       0.,\n",
       "              0.,       0.,       0.,       0.,       0.,       0.,\n",
       "              0.,       0.,       0.,       0.,       0.,       0.,\n",
       "              0.,       0.,       0.,       0.,       0.,       0.,\n",
       "        3907212.,       0.,       0.,       0.,       0.,       0.,\n",
       "              0.,       0.]),\n",
       " array([0.9   , 0.9002, 0.9004, 0.9006, 0.9008, 0.901 , 0.9012, 0.9014,\n",
       "        0.9016, 0.9018, 0.902 , 0.9022, 0.9024, 0.9026, 0.9028, 0.903 ,\n",
       "        0.9032, 0.9034, 0.9036, 0.9038, 0.904 , 0.9042, 0.9044, 0.9046,\n",
       "        0.9048, 0.905 , 0.9052, 0.9054, 0.9056, 0.9058, 0.906 , 0.9062,\n",
       "        0.9064, 0.9066, 0.9068, 0.907 , 0.9072, 0.9074, 0.9076, 0.9078,\n",
       "        0.908 , 0.9082, 0.9084, 0.9086, 0.9088, 0.909 , 0.9092, 0.9094,\n",
       "        0.9096, 0.9098, 0.91  , 0.9102, 0.9104, 0.9106, 0.9108, 0.911 ,\n",
       "        0.9112, 0.9114, 0.9116, 0.9118, 0.912 , 0.9122, 0.9124, 0.9126,\n",
       "        0.9128, 0.913 , 0.9132, 0.9134, 0.9136, 0.9138, 0.914 , 0.9142,\n",
       "        0.9144, 0.9146, 0.9148, 0.915 , 0.9152, 0.9154, 0.9156, 0.9158,\n",
       "        0.916 , 0.9162, 0.9164, 0.9166, 0.9168, 0.917 , 0.9172, 0.9174,\n",
       "        0.9176, 0.9178, 0.918 , 0.9182, 0.9184, 0.9186, 0.9188, 0.919 ,\n",
       "        0.9192, 0.9194, 0.9196, 0.9198, 0.92  , 0.9202, 0.9204, 0.9206,\n",
       "        0.9208, 0.921 , 0.9212, 0.9214, 0.9216, 0.9218, 0.922 , 0.9222,\n",
       "        0.9224, 0.9226, 0.9228, 0.923 , 0.9232, 0.9234, 0.9236, 0.9238,\n",
       "        0.924 , 0.9242, 0.9244, 0.9246, 0.9248, 0.925 , 0.9252, 0.9254,\n",
       "        0.9256, 0.9258, 0.926 , 0.9262, 0.9264, 0.9266, 0.9268, 0.927 ,\n",
       "        0.9272, 0.9274, 0.9276, 0.9278, 0.928 , 0.9282, 0.9284, 0.9286,\n",
       "        0.9288, 0.929 , 0.9292, 0.9294, 0.9296, 0.9298, 0.93  , 0.9302,\n",
       "        0.9304, 0.9306, 0.9308, 0.931 , 0.9312, 0.9314, 0.9316, 0.9318,\n",
       "        0.932 , 0.9322, 0.9324, 0.9326, 0.9328, 0.933 , 0.9332, 0.9334,\n",
       "        0.9336, 0.9338, 0.934 , 0.9342, 0.9344, 0.9346, 0.9348, 0.935 ,\n",
       "        0.9352, 0.9354, 0.9356, 0.9358, 0.936 , 0.9362, 0.9364, 0.9366,\n",
       "        0.9368, 0.937 , 0.9372, 0.9374, 0.9376, 0.9378, 0.938 , 0.9382,\n",
       "        0.9384, 0.9386, 0.9388, 0.939 , 0.9392, 0.9394, 0.9396, 0.9398,\n",
       "        0.94  , 0.9402, 0.9404, 0.9406, 0.9408, 0.941 , 0.9412, 0.9414,\n",
       "        0.9416, 0.9418, 0.942 , 0.9422, 0.9424, 0.9426, 0.9428, 0.943 ,\n",
       "        0.9432, 0.9434, 0.9436, 0.9438, 0.944 , 0.9442, 0.9444, 0.9446,\n",
       "        0.9448, 0.945 , 0.9452, 0.9454, 0.9456, 0.9458, 0.946 , 0.9462,\n",
       "        0.9464, 0.9466, 0.9468, 0.947 , 0.9472, 0.9474, 0.9476, 0.9478,\n",
       "        0.948 , 0.9482, 0.9484, 0.9486, 0.9488, 0.949 , 0.9492, 0.9494,\n",
       "        0.9496, 0.9498, 0.95  , 0.9502, 0.9504, 0.9506, 0.9508, 0.951 ,\n",
       "        0.9512, 0.9514, 0.9516, 0.9518, 0.952 , 0.9522, 0.9524, 0.9526,\n",
       "        0.9528, 0.953 , 0.9532, 0.9534, 0.9536, 0.9538, 0.954 , 0.9542,\n",
       "        0.9544, 0.9546, 0.9548, 0.955 , 0.9552, 0.9554, 0.9556, 0.9558,\n",
       "        0.956 , 0.9562, 0.9564, 0.9566, 0.9568, 0.957 , 0.9572, 0.9574,\n",
       "        0.9576, 0.9578, 0.958 , 0.9582, 0.9584, 0.9586, 0.9588, 0.959 ,\n",
       "        0.9592, 0.9594, 0.9596, 0.9598, 0.96  , 0.9602, 0.9604, 0.9606,\n",
       "        0.9608, 0.961 , 0.9612, 0.9614, 0.9616, 0.9618, 0.962 , 0.9622,\n",
       "        0.9624, 0.9626, 0.9628, 0.963 , 0.9632, 0.9634, 0.9636, 0.9638,\n",
       "        0.964 , 0.9642, 0.9644, 0.9646, 0.9648, 0.965 , 0.9652, 0.9654,\n",
       "        0.9656, 0.9658, 0.966 , 0.9662, 0.9664, 0.9666, 0.9668, 0.967 ,\n",
       "        0.9672, 0.9674, 0.9676, 0.9678, 0.968 , 0.9682, 0.9684, 0.9686,\n",
       "        0.9688, 0.969 , 0.9692, 0.9694, 0.9696, 0.9698, 0.97  , 0.9702,\n",
       "        0.9704, 0.9706, 0.9708, 0.971 , 0.9712, 0.9714, 0.9716, 0.9718,\n",
       "        0.972 , 0.9722, 0.9724, 0.9726, 0.9728, 0.973 , 0.9732, 0.9734,\n",
       "        0.9736, 0.9738, 0.974 , 0.9742, 0.9744, 0.9746, 0.9748, 0.975 ,\n",
       "        0.9752, 0.9754, 0.9756, 0.9758, 0.976 , 0.9762, 0.9764, 0.9766,\n",
       "        0.9768, 0.977 , 0.9772, 0.9774, 0.9776, 0.9778, 0.978 , 0.9782,\n",
       "        0.9784, 0.9786, 0.9788, 0.979 , 0.9792, 0.9794, 0.9796, 0.9798,\n",
       "        0.98  , 0.9802, 0.9804, 0.9806, 0.9808, 0.981 , 0.9812, 0.9814,\n",
       "        0.9816, 0.9818, 0.982 , 0.9822, 0.9824, 0.9826, 0.9828, 0.983 ,\n",
       "        0.9832, 0.9834, 0.9836, 0.9838, 0.984 , 0.9842, 0.9844, 0.9846,\n",
       "        0.9848, 0.985 , 0.9852, 0.9854, 0.9856, 0.9858, 0.986 , 0.9862,\n",
       "        0.9864, 0.9866, 0.9868, 0.987 , 0.9872, 0.9874, 0.9876, 0.9878,\n",
       "        0.988 , 0.9882, 0.9884, 0.9886, 0.9888, 0.989 , 0.9892, 0.9894,\n",
       "        0.9896, 0.9898, 0.99  , 0.9902, 0.9904, 0.9906, 0.9908, 0.991 ,\n",
       "        0.9912, 0.9914, 0.9916, 0.9918, 0.992 , 0.9922, 0.9924, 0.9926,\n",
       "        0.9928, 0.993 , 0.9932, 0.9934, 0.9936, 0.9938, 0.994 , 0.9942,\n",
       "        0.9944, 0.9946, 0.9948, 0.995 , 0.9952, 0.9954, 0.9956, 0.9958,\n",
       "        0.996 , 0.9962, 0.9964, 0.9966, 0.9968, 0.997 , 0.9972, 0.9974,\n",
       "        0.9976, 0.9978, 0.998 , 0.9982, 0.9984, 0.9986, 0.9988, 0.999 ,\n",
       "        0.9992, 0.9994, 0.9996, 0.9998, 1.    ]),\n",
       " <a list of 500 Patch objects>)"
      ]
     },
     "execution_count": 42,
     "metadata": {},
     "output_type": "execute_result"
    },
    {
     "data": {
      "image/png": "[encoded data removed]",
      "text/plain": [
       "<Figure size 432x288 with 1 Axes>"
      ]
     },
     "metadata": {},
     "output_type": "display_data"
    }
   ],
   "source": [
    "plt.hist(y_all_pred_pro[:,0],range=(0.9,1),bins=500)"
   ]
  },
  {
   "cell_type": "code",
   "execution_count": 43,
   "metadata": {},
   "outputs": [
    {
     "data": {
      "text/plain": [
       "array([0, 1])"
      ]
     },
     "execution_count": 43,
     "metadata": {},
     "output_type": "execute_result"
    }
   ],
   "source": [
    "tree_reg.classes_"
   ]
  },
  {
   "cell_type": "markdown",
   "metadata": {},
   "source": [
    "# Random Forest"
   ]
  },
  {
   "cell_type": "code",
   "execution_count": 19,
   "metadata": {
    "collapsed": true
   },
   "outputs": [],
   "source": [
    "from sklearn.ensemble import RandomForestClassifier"
   ]
  },
  {
   "cell_type": "code",
   "execution_count": 73,
   "metadata": {
    "collapsed": true
   },
   "outputs": [],
   "source": [
    "clf = RandomForestClassifier(n_estimators=5,max_depth=5)"
   ]
  },
  {
   "cell_type": "code",
   "execution_count": 74,
   "metadata": {},
   "outputs": [
    {
     "data": {
      "text/plain": [
       "RandomForestClassifier(bootstrap=True, class_weight=None, criterion='gini',\n",
       "            max_depth=5, max_features='auto', max_leaf_nodes=None,\n",
       "            min_impurity_decrease=0.0, min_impurity_split=None,\n",
       "            min_samples_leaf=1, min_samples_split=2,\n",
       "            min_weight_fraction_leaf=0.0, n_estimators=5, n_jobs=1,\n",
       "            oob_score=False, random_state=None, verbose=0,\n",
       "            warm_start=False)"
      ]
     },
     "execution_count": 74,
     "metadata": {},
     "output_type": "execute_result"
    }
   ],
   "source": [
    "clf.fit(x_resample,y_resample)"
   ]
  },
  {
   "cell_type": "code",
   "execution_count": 75,
   "metadata": {},
   "outputs": [
    {
     "data": {
      "text/plain": [
       "0.8245849823482301"
      ]
     },
     "execution_count": 75,
     "metadata": {},
     "output_type": "execute_result"
    }
   ],
   "source": [
    "roc_auc_score(y,clf.predict(x_scaled))"
   ]
  },
  {
   "cell_type": "code",
   "execution_count": 76,
   "metadata": {
    "collapsed": true
   },
   "outputs": [],
   "source": [
    "a = clf.predict_proba(x_scaled)[:,1]"
   ]
  },
  {
   "cell_type": "code",
   "execution_count": 77,
   "metadata": {},
   "outputs": [
    {
     "data": {
      "text/plain": [
       "(5665037, 10)"
      ]
     },
     "execution_count": 77,
     "metadata": {},
     "output_type": "execute_result"
    }
   ],
   "source": [
    "data.shape"
   ]
  },
  {
   "cell_type": "code",
   "execution_count": 78,
   "metadata": {},
   "outputs": [
    {
     "data": {
      "text/plain": [
       "(5665037,)"
      ]
     },
     "execution_count": 78,
     "metadata": {},
     "output_type": "execute_result"
    }
   ],
   "source": [
    "a.shape"
   ]
  },
  {
   "cell_type": "code",
   "execution_count": 79,
   "metadata": {
    "collapsed": true
   },
   "outputs": [],
   "source": [
    "data['label_pred'] = a"
   ]
  },
  {
   "cell_type": "code",
   "execution_count": 80,
   "metadata": {
    "collapsed": true
   },
   "outputs": [],
   "source": [
    "signal_plot = data[data['label']==1]['label_pred']"
   ]
  },
  {
   "cell_type": "code",
   "execution_count": 81,
   "metadata": {},
   "outputs": [
    {
     "data": {
      "image/png": "[encoded data removed]",
      "text/plain": [
       "<Figure size 432x288 with 1 Axes>"
      ]
     },
     "metadata": {},
     "output_type": "display_data"
    }
   ],
   "source": [
    "plt.hist(signal_plot,bins=10)\n",
    "plt.show()"
   ]
  },
  {
   "cell_type": "code",
   "execution_count": 82,
   "metadata": {
    "collapsed": true
   },
   "outputs": [],
   "source": [
    "bg_plot = data[data['label']==0]['label_pred']"
   ]
  },
  {
   "cell_type": "code",
   "execution_count": 83,
   "metadata": {},
   "outputs": [
    {
     "data": {
      "text/plain": [
       "(array([2451570.,  262361.,  464580.,  119284.,  235837.,   76236.,\n",
       "          38140.,  118393.,  173783.,  228767.,  170483.,  391145.,\n",
       "         322508.,   61385.,   79996.,  134358.,   90680.,  127141.,\n",
       "          17391.,   55111.]),\n",
       " array([0.00132512, 0.04920744, 0.09708977, 0.1449721 , 0.19285442,\n",
       "        0.24073675, 0.28861907, 0.3365014 , 0.38438373, 0.43226605,\n",
       "        0.48014838, 0.52803071, 0.57591303, 0.62379536, 0.67167768,\n",
       "        0.71956001, 0.76744234, 0.81532466, 0.86320699, 0.91108932,\n",
       "        0.95897164]),\n",
       " <a list of 20 Patch objects>)"
      ]
     },
     "execution_count": 83,
     "metadata": {},
     "output_type": "execute_result"
    },
    {
     "data": {
      "image/png": "[encoded data removed]",
      "text/plain": [
       "<Figure size 432x288 with 1 Axes>"
      ]
     },
     "metadata": {},
     "output_type": "display_data"
    }
   ],
   "source": [
    "plt.hist(bg_plot,bins=20)"
   ]
  },
  {
   "cell_type": "code",
   "execution_count": null,
   "metadata": {
    "collapsed": true
   },
   "outputs": [],
   "source": []
  },
  {
   "cell_type": "code",
   "execution_count": 48,
   "metadata": {
    "collapsed": true
   },
   "outputs": [],
   "source": [
    "data_0 = data[data['label']==0]"
   ]
  },
  {
   "cell_type": "code",
   "execution_count": 49,
   "metadata": {},
   "outputs": [
    {
     "data": {
      "text/html": [
       "<div>\n",
       "<style scoped>\n",
       "    .dataframe tbody tr th:only-of-type {\n",
       "        vertical-align: middle;\n",
       "    }\n",
       "\n",
       "    .dataframe tbody tr th {\n",
       "        vertical-align: top;\n",
       "    }\n",
       "\n",
       "    .dataframe thead th {\n",
       "        text-align: right;\n",
       "    }\n",
       "</style>\n",
       "<table border=\"1\" class=\"dataframe\">\n",
       "  <thead>\n",
       "    <tr style=\"text-align: right;\">\n",
       "      <th></th>\n",
       "      <th>label</th>\n",
       "      <th>process_id</th>\n",
       "      <th>lepton</th>\n",
       "      <th>photon</th>\n",
       "      <th>jet</th>\n",
       "      <th>met</th>\n",
       "      <th>ht</th>\n",
       "      <th>pt</th>\n",
       "      <th>pq</th>\n",
       "      <th>prediction</th>\n",
       "    </tr>\n",
       "  </thead>\n",
       "  <tbody>\n",
       "    <tr>\n",
       "      <th>3599999</th>\n",
       "      <td>0</td>\n",
       "      <td>1001</td>\n",
       "      <td>2</td>\n",
       "      <td>1</td>\n",
       "      <td>2</td>\n",
       "      <td>97.886528</td>\n",
       "      <td>219.074158</td>\n",
       "      <td>123.278037</td>\n",
       "      <td>1253.995967</td>\n",
       "      <td>0.041276</td>\n",
       "    </tr>\n",
       "  </tbody>\n",
       "</table>\n",
       "</div>"
      ],
      "text/plain": [
       "         label  process_id  lepton  photon  jet        met          ht  \\\n",
       "3599999      0        1001       2       1    2  97.886528  219.074158   \n",
       "\n",
       "                 pt           pq  prediction  \n",
       "3599999  123.278037  1253.995967    0.041276  "
      ]
     },
     "execution_count": 49,
     "metadata": {},
     "output_type": "execute_result"
    }
   ],
   "source": [
    "data_0[0:1]"
   ]
  },
  {
   "cell_type": "code",
   "execution_count": 50,
   "metadata": {},
   "outputs": [
    {
     "data": {
      "text/plain": [
       "pandas.core.frame.DataFrame"
      ]
     },
     "execution_count": 50,
     "metadata": {},
     "output_type": "execute_result"
    }
   ],
   "source": [
    "type(data_0)"
   ]
  },
  {
   "cell_type": "code",
   "execution_count": 51,
   "metadata": {
    "collapsed": true
   },
   "outputs": [],
   "source": [
    "data_1 = data[data['label']==1]"
   ]
  },
  {
   "cell_type": "code",
   "execution_count": 52,
   "metadata": {
    "collapsed": true
   },
   "outputs": [],
   "source": [
    "f = [data_0[0:50000],data_1]"
   ]
  },
  {
   "cell_type": "code",
   "execution_count": 53,
   "metadata": {
    "collapsed": true
   },
   "outputs": [],
   "source": [
    "data_new = pd.concat(f)"
   ]
  },
  {
   "cell_type": "code",
   "execution_count": 54,
   "metadata": {},
   "outputs": [
    {
     "data": {
      "text/plain": [
       "(95888, 10)"
      ]
     },
     "execution_count": 54,
     "metadata": {},
     "output_type": "execute_result"
    }
   ],
   "source": [
    "data_new.shape"
   ]
  },
  {
   "cell_type": "code",
   "execution_count": 55,
   "metadata": {},
   "outputs": [
    {
     "data": {
      "text/html": [
       "<div>\n",
       "<style scoped>\n",
       "    .dataframe tbody tr th:only-of-type {\n",
       "        vertical-align: middle;\n",
       "    }\n",
       "\n",
       "    .dataframe tbody tr th {\n",
       "        vertical-align: top;\n",
       "    }\n",
       "\n",
       "    .dataframe thead th {\n",
       "        text-align: right;\n",
       "    }\n",
       "</style>\n",
       "<table border=\"1\" class=\"dataframe\">\n",
       "  <thead>\n",
       "    <tr style=\"text-align: right;\">\n",
       "      <th></th>\n",
       "      <th>label</th>\n",
       "      <th>process_id</th>\n",
       "      <th>lepton</th>\n",
       "      <th>photon</th>\n",
       "      <th>jet</th>\n",
       "      <th>met</th>\n",
       "      <th>ht</th>\n",
       "      <th>pt</th>\n",
       "      <th>pq</th>\n",
       "    </tr>\n",
       "  </thead>\n",
       "  <tbody>\n",
       "    <tr>\n",
       "      <th>3599999</th>\n",
       "      <td>0</td>\n",
       "      <td>1001</td>\n",
       "      <td>2</td>\n",
       "      <td>1</td>\n",
       "      <td>2</td>\n",
       "      <td>97.886528</td>\n",
       "      <td>219.074158</td>\n",
       "      <td>123.278037</td>\n",
       "      <td>1253.995967</td>\n",
       "    </tr>\n",
       "    <tr>\n",
       "      <th>3600033</th>\n",
       "      <td>0</td>\n",
       "      <td>1001</td>\n",
       "      <td>1</td>\n",
       "      <td>1</td>\n",
       "      <td>2</td>\n",
       "      <td>40.998829</td>\n",
       "      <td>185.086273</td>\n",
       "      <td>56.724369</td>\n",
       "      <td>978.895190</td>\n",
       "    </tr>\n",
       "    <tr>\n",
       "      <th>3600051</th>\n",
       "      <td>0</td>\n",
       "      <td>1001</td>\n",
       "      <td>2</td>\n",
       "      <td>1</td>\n",
       "      <td>1</td>\n",
       "      <td>44.470272</td>\n",
       "      <td>195.993210</td>\n",
       "      <td>48.136503</td>\n",
       "      <td>6110.158880</td>\n",
       "    </tr>\n",
       "    <tr>\n",
       "      <th>3600060</th>\n",
       "      <td>0</td>\n",
       "      <td>1001</td>\n",
       "      <td>1</td>\n",
       "      <td>1</td>\n",
       "      <td>2</td>\n",
       "      <td>162.770081</td>\n",
       "      <td>366.536774</td>\n",
       "      <td>321.829058</td>\n",
       "      <td>1936.234262</td>\n",
       "    </tr>\n",
       "    <tr>\n",
       "      <th>3600070</th>\n",
       "      <td>0</td>\n",
       "      <td>1001</td>\n",
       "      <td>2</td>\n",
       "      <td>1</td>\n",
       "      <td>2</td>\n",
       "      <td>127.611923</td>\n",
       "      <td>493.484314</td>\n",
       "      <td>141.857901</td>\n",
       "      <td>38167.158704</td>\n",
       "    </tr>\n",
       "    <tr>\n",
       "      <th>3600090</th>\n",
       "      <td>0</td>\n",
       "      <td>1001</td>\n",
       "      <td>1</td>\n",
       "      <td>1</td>\n",
       "      <td>2</td>\n",
       "      <td>43.524670</td>\n",
       "      <td>186.910706</td>\n",
       "      <td>50.437472</td>\n",
       "      <td>1872.965403</td>\n",
       "    </tr>\n",
       "    <tr>\n",
       "      <th>3600118</th>\n",
       "      <td>0</td>\n",
       "      <td>1001</td>\n",
       "      <td>1</td>\n",
       "      <td>1</td>\n",
       "      <td>1</td>\n",
       "      <td>392.532410</td>\n",
       "      <td>713.835999</td>\n",
       "      <td>676.372397</td>\n",
       "      <td>13954.173071</td>\n",
       "    </tr>\n",
       "    <tr>\n",
       "      <th>3600119</th>\n",
       "      <td>0</td>\n",
       "      <td>1001</td>\n",
       "      <td>2</td>\n",
       "      <td>1</td>\n",
       "      <td>2</td>\n",
       "      <td>137.816895</td>\n",
       "      <td>424.476410</td>\n",
       "      <td>100.776832</td>\n",
       "      <td>6525.187982</td>\n",
       "    </tr>\n",
       "    <tr>\n",
       "      <th>3600120</th>\n",
       "      <td>0</td>\n",
       "      <td>1001</td>\n",
       "      <td>2</td>\n",
       "      <td>1</td>\n",
       "      <td>2</td>\n",
       "      <td>90.924797</td>\n",
       "      <td>212.771606</td>\n",
       "      <td>97.929797</td>\n",
       "      <td>8872.845225</td>\n",
       "    </tr>\n",
       "    <tr>\n",
       "      <th>3600121</th>\n",
       "      <td>0</td>\n",
       "      <td>1001</td>\n",
       "      <td>2</td>\n",
       "      <td>1</td>\n",
       "      <td>2</td>\n",
       "      <td>85.520042</td>\n",
       "      <td>361.064026</td>\n",
       "      <td>203.419947</td>\n",
       "      <td>705.423772</td>\n",
       "    </tr>\n",
       "    <tr>\n",
       "      <th>3600124</th>\n",
       "      <td>0</td>\n",
       "      <td>1001</td>\n",
       "      <td>1</td>\n",
       "      <td>1</td>\n",
       "      <td>2</td>\n",
       "      <td>63.278679</td>\n",
       "      <td>519.223755</td>\n",
       "      <td>255.181308</td>\n",
       "      <td>16957.994831</td>\n",
       "    </tr>\n",
       "    <tr>\n",
       "      <th>3600166</th>\n",
       "      <td>0</td>\n",
       "      <td>1001</td>\n",
       "      <td>1</td>\n",
       "      <td>1</td>\n",
       "      <td>2</td>\n",
       "      <td>56.439445</td>\n",
       "      <td>231.380630</td>\n",
       "      <td>40.954004</td>\n",
       "      <td>1128.380343</td>\n",
       "    </tr>\n",
       "    <tr>\n",
       "      <th>3600181</th>\n",
       "      <td>0</td>\n",
       "      <td>1001</td>\n",
       "      <td>1</td>\n",
       "      <td>1</td>\n",
       "      <td>2</td>\n",
       "      <td>92.743973</td>\n",
       "      <td>238.750931</td>\n",
       "      <td>129.531002</td>\n",
       "      <td>319.539615</td>\n",
       "    </tr>\n",
       "    <tr>\n",
       "      <th>3600227</th>\n",
       "      <td>0</td>\n",
       "      <td>1001</td>\n",
       "      <td>2</td>\n",
       "      <td>1</td>\n",
       "      <td>2</td>\n",
       "      <td>46.044586</td>\n",
       "      <td>652.190247</td>\n",
       "      <td>116.420334</td>\n",
       "      <td>16053.914716</td>\n",
       "    </tr>\n",
       "    <tr>\n",
       "      <th>3600232</th>\n",
       "      <td>0</td>\n",
       "      <td>1001</td>\n",
       "      <td>2</td>\n",
       "      <td>2</td>\n",
       "      <td>2</td>\n",
       "      <td>32.403736</td>\n",
       "      <td>275.258881</td>\n",
       "      <td>112.979842</td>\n",
       "      <td>1916.597887</td>\n",
       "    </tr>\n",
       "    <tr>\n",
       "      <th>3600253</th>\n",
       "      <td>0</td>\n",
       "      <td>1001</td>\n",
       "      <td>1</td>\n",
       "      <td>1</td>\n",
       "      <td>2</td>\n",
       "      <td>80.364517</td>\n",
       "      <td>243.501297</td>\n",
       "      <td>162.698028</td>\n",
       "      <td>426.357955</td>\n",
       "    </tr>\n",
       "    <tr>\n",
       "      <th>3600270</th>\n",
       "      <td>0</td>\n",
       "      <td>1001</td>\n",
       "      <td>2</td>\n",
       "      <td>1</td>\n",
       "      <td>1</td>\n",
       "      <td>159.422897</td>\n",
       "      <td>287.653046</td>\n",
       "      <td>101.030669</td>\n",
       "      <td>37528.585991</td>\n",
       "    </tr>\n",
       "    <tr>\n",
       "      <th>3600275</th>\n",
       "      <td>0</td>\n",
       "      <td>1001</td>\n",
       "      <td>1</td>\n",
       "      <td>1</td>\n",
       "      <td>2</td>\n",
       "      <td>267.932098</td>\n",
       "      <td>529.251709</td>\n",
       "      <td>337.450299</td>\n",
       "      <td>38824.652958</td>\n",
       "    </tr>\n",
       "    <tr>\n",
       "      <th>3600286</th>\n",
       "      <td>0</td>\n",
       "      <td>1001</td>\n",
       "      <td>2</td>\n",
       "      <td>1</td>\n",
       "      <td>2</td>\n",
       "      <td>47.754246</td>\n",
       "      <td>264.507324</td>\n",
       "      <td>51.124674</td>\n",
       "      <td>7635.510943</td>\n",
       "    </tr>\n",
       "    <tr>\n",
       "      <th>3600307</th>\n",
       "      <td>0</td>\n",
       "      <td>1001</td>\n",
       "      <td>2</td>\n",
       "      <td>1</td>\n",
       "      <td>2</td>\n",
       "      <td>34.386982</td>\n",
       "      <td>310.871826</td>\n",
       "      <td>68.913779</td>\n",
       "      <td>1529.970103</td>\n",
       "    </tr>\n",
       "    <tr>\n",
       "      <th>3600324</th>\n",
       "      <td>0</td>\n",
       "      <td>1001</td>\n",
       "      <td>1</td>\n",
       "      <td>1</td>\n",
       "      <td>2</td>\n",
       "      <td>340.697571</td>\n",
       "      <td>509.623535</td>\n",
       "      <td>476.141043</td>\n",
       "      <td>49.418576</td>\n",
       "    </tr>\n",
       "    <tr>\n",
       "      <th>3600328</th>\n",
       "      <td>0</td>\n",
       "      <td>1001</td>\n",
       "      <td>2</td>\n",
       "      <td>1</td>\n",
       "      <td>2</td>\n",
       "      <td>37.640961</td>\n",
       "      <td>257.828888</td>\n",
       "      <td>76.826258</td>\n",
       "      <td>13226.619011</td>\n",
       "    </tr>\n",
       "    <tr>\n",
       "      <th>3600352</th>\n",
       "      <td>0</td>\n",
       "      <td>1001</td>\n",
       "      <td>1</td>\n",
       "      <td>1</td>\n",
       "      <td>2</td>\n",
       "      <td>24.167656</td>\n",
       "      <td>154.476379</td>\n",
       "      <td>12.162658</td>\n",
       "      <td>1724.125509</td>\n",
       "    </tr>\n",
       "    <tr>\n",
       "      <th>3600360</th>\n",
       "      <td>0</td>\n",
       "      <td>1001</td>\n",
       "      <td>1</td>\n",
       "      <td>1</td>\n",
       "      <td>2</td>\n",
       "      <td>142.565674</td>\n",
       "      <td>519.315308</td>\n",
       "      <td>128.552527</td>\n",
       "      <td>21128.260730</td>\n",
       "    </tr>\n",
       "    <tr>\n",
       "      <th>3600385</th>\n",
       "      <td>0</td>\n",
       "      <td>1001</td>\n",
       "      <td>1</td>\n",
       "      <td>1</td>\n",
       "      <td>2</td>\n",
       "      <td>119.214516</td>\n",
       "      <td>260.191406</td>\n",
       "      <td>192.630017</td>\n",
       "      <td>2267.558779</td>\n",
       "    </tr>\n",
       "    <tr>\n",
       "      <th>3600393</th>\n",
       "      <td>0</td>\n",
       "      <td>1001</td>\n",
       "      <td>1</td>\n",
       "      <td>1</td>\n",
       "      <td>2</td>\n",
       "      <td>37.022358</td>\n",
       "      <td>345.785706</td>\n",
       "      <td>106.551669</td>\n",
       "      <td>15769.781830</td>\n",
       "    </tr>\n",
       "    <tr>\n",
       "      <th>3600401</th>\n",
       "      <td>0</td>\n",
       "      <td>1001</td>\n",
       "      <td>1</td>\n",
       "      <td>1</td>\n",
       "      <td>2</td>\n",
       "      <td>55.517220</td>\n",
       "      <td>131.752182</td>\n",
       "      <td>74.304246</td>\n",
       "      <td>3411.114457</td>\n",
       "    </tr>\n",
       "    <tr>\n",
       "      <th>3600416</th>\n",
       "      <td>0</td>\n",
       "      <td>1001</td>\n",
       "      <td>2</td>\n",
       "      <td>1</td>\n",
       "      <td>2</td>\n",
       "      <td>49.296078</td>\n",
       "      <td>275.048340</td>\n",
       "      <td>110.580957</td>\n",
       "      <td>2349.848860</td>\n",
       "    </tr>\n",
       "    <tr>\n",
       "      <th>3600418</th>\n",
       "      <td>0</td>\n",
       "      <td>1001</td>\n",
       "      <td>2</td>\n",
       "      <td>1</td>\n",
       "      <td>2</td>\n",
       "      <td>63.278191</td>\n",
       "      <td>268.733582</td>\n",
       "      <td>40.884682</td>\n",
       "      <td>617.720707</td>\n",
       "    </tr>\n",
       "    <tr>\n",
       "      <th>3600434</th>\n",
       "      <td>0</td>\n",
       "      <td>1001</td>\n",
       "      <td>1</td>\n",
       "      <td>1</td>\n",
       "      <td>2</td>\n",
       "      <td>55.399380</td>\n",
       "      <td>171.507980</td>\n",
       "      <td>126.686145</td>\n",
       "      <td>785.171459</td>\n",
       "    </tr>\n",
       "    <tr>\n",
       "      <th>...</th>\n",
       "      <td>...</td>\n",
       "      <td>...</td>\n",
       "      <td>...</td>\n",
       "      <td>...</td>\n",
       "      <td>...</td>\n",
       "      <td>...</td>\n",
       "      <td>...</td>\n",
       "      <td>...</td>\n",
       "      <td>...</td>\n",
       "    </tr>\n",
       "    <tr>\n",
       "      <th>2449933</th>\n",
       "      <td>1</td>\n",
       "      <td>301</td>\n",
       "      <td>1</td>\n",
       "      <td>2</td>\n",
       "      <td>0</td>\n",
       "      <td>62.514603</td>\n",
       "      <td>208.366089</td>\n",
       "      <td>42.265476</td>\n",
       "      <td>12327.625787</td>\n",
       "    </tr>\n",
       "    <tr>\n",
       "      <th>2449936</th>\n",
       "      <td>1</td>\n",
       "      <td>301</td>\n",
       "      <td>1</td>\n",
       "      <td>3</td>\n",
       "      <td>0</td>\n",
       "      <td>29.360891</td>\n",
       "      <td>97.354004</td>\n",
       "      <td>87.354440</td>\n",
       "      <td>3423.095275</td>\n",
       "    </tr>\n",
       "    <tr>\n",
       "      <th>2449937</th>\n",
       "      <td>1</td>\n",
       "      <td>301</td>\n",
       "      <td>1</td>\n",
       "      <td>3</td>\n",
       "      <td>1</td>\n",
       "      <td>356.066223</td>\n",
       "      <td>883.932434</td>\n",
       "      <td>728.236008</td>\n",
       "      <td>1168.881002</td>\n",
       "    </tr>\n",
       "    <tr>\n",
       "      <th>2449940</th>\n",
       "      <td>1</td>\n",
       "      <td>301</td>\n",
       "      <td>1</td>\n",
       "      <td>3</td>\n",
       "      <td>0</td>\n",
       "      <td>88.051094</td>\n",
       "      <td>175.217300</td>\n",
       "      <td>143.606742</td>\n",
       "      <td>729.662650</td>\n",
       "    </tr>\n",
       "    <tr>\n",
       "      <th>2449944</th>\n",
       "      <td>1</td>\n",
       "      <td>301</td>\n",
       "      <td>1</td>\n",
       "      <td>3</td>\n",
       "      <td>1</td>\n",
       "      <td>62.179394</td>\n",
       "      <td>203.497437</td>\n",
       "      <td>85.029183</td>\n",
       "      <td>2762.920578</td>\n",
       "    </tr>\n",
       "    <tr>\n",
       "      <th>2449945</th>\n",
       "      <td>1</td>\n",
       "      <td>301</td>\n",
       "      <td>1</td>\n",
       "      <td>3</td>\n",
       "      <td>0</td>\n",
       "      <td>29.467844</td>\n",
       "      <td>150.191940</td>\n",
       "      <td>81.934887</td>\n",
       "      <td>229.880894</td>\n",
       "    </tr>\n",
       "    <tr>\n",
       "      <th>2449946</th>\n",
       "      <td>1</td>\n",
       "      <td>301</td>\n",
       "      <td>1</td>\n",
       "      <td>2</td>\n",
       "      <td>1</td>\n",
       "      <td>25.248417</td>\n",
       "      <td>151.248978</td>\n",
       "      <td>32.671552</td>\n",
       "      <td>2323.865503</td>\n",
       "    </tr>\n",
       "    <tr>\n",
       "      <th>2449949</th>\n",
       "      <td>1</td>\n",
       "      <td>301</td>\n",
       "      <td>1</td>\n",
       "      <td>1</td>\n",
       "      <td>2</td>\n",
       "      <td>90.029617</td>\n",
       "      <td>215.572250</td>\n",
       "      <td>137.893144</td>\n",
       "      <td>8090.761767</td>\n",
       "    </tr>\n",
       "    <tr>\n",
       "      <th>2449950</th>\n",
       "      <td>1</td>\n",
       "      <td>301</td>\n",
       "      <td>1</td>\n",
       "      <td>1</td>\n",
       "      <td>2</td>\n",
       "      <td>22.172358</td>\n",
       "      <td>327.212585</td>\n",
       "      <td>70.952294</td>\n",
       "      <td>3691.604995</td>\n",
       "    </tr>\n",
       "    <tr>\n",
       "      <th>2449951</th>\n",
       "      <td>1</td>\n",
       "      <td>301</td>\n",
       "      <td>1</td>\n",
       "      <td>3</td>\n",
       "      <td>0</td>\n",
       "      <td>40.673927</td>\n",
       "      <td>177.534286</td>\n",
       "      <td>53.131963</td>\n",
       "      <td>246.038319</td>\n",
       "    </tr>\n",
       "    <tr>\n",
       "      <th>2449953</th>\n",
       "      <td>1</td>\n",
       "      <td>301</td>\n",
       "      <td>1</td>\n",
       "      <td>1</td>\n",
       "      <td>1</td>\n",
       "      <td>17.325653</td>\n",
       "      <td>181.266464</td>\n",
       "      <td>64.240053</td>\n",
       "      <td>4618.358914</td>\n",
       "    </tr>\n",
       "    <tr>\n",
       "      <th>2449956</th>\n",
       "      <td>1</td>\n",
       "      <td>301</td>\n",
       "      <td>1</td>\n",
       "      <td>2</td>\n",
       "      <td>2</td>\n",
       "      <td>50.289272</td>\n",
       "      <td>221.814835</td>\n",
       "      <td>124.439100</td>\n",
       "      <td>1724.329459</td>\n",
       "    </tr>\n",
       "    <tr>\n",
       "      <th>2449962</th>\n",
       "      <td>1</td>\n",
       "      <td>301</td>\n",
       "      <td>1</td>\n",
       "      <td>1</td>\n",
       "      <td>1</td>\n",
       "      <td>21.542637</td>\n",
       "      <td>125.732399</td>\n",
       "      <td>25.452641</td>\n",
       "      <td>3631.711785</td>\n",
       "    </tr>\n",
       "    <tr>\n",
       "      <th>2449965</th>\n",
       "      <td>1</td>\n",
       "      <td>301</td>\n",
       "      <td>1</td>\n",
       "      <td>1</td>\n",
       "      <td>2</td>\n",
       "      <td>49.233425</td>\n",
       "      <td>196.916473</td>\n",
       "      <td>95.318223</td>\n",
       "      <td>2562.147729</td>\n",
       "    </tr>\n",
       "    <tr>\n",
       "      <th>2449966</th>\n",
       "      <td>1</td>\n",
       "      <td>301</td>\n",
       "      <td>1</td>\n",
       "      <td>2</td>\n",
       "      <td>1</td>\n",
       "      <td>42.624004</td>\n",
       "      <td>216.879852</td>\n",
       "      <td>129.260923</td>\n",
       "      <td>390.758004</td>\n",
       "    </tr>\n",
       "    <tr>\n",
       "      <th>2449968</th>\n",
       "      <td>1</td>\n",
       "      <td>301</td>\n",
       "      <td>1</td>\n",
       "      <td>1</td>\n",
       "      <td>2</td>\n",
       "      <td>81.031746</td>\n",
       "      <td>156.876022</td>\n",
       "      <td>90.187115</td>\n",
       "      <td>10308.888356</td>\n",
       "    </tr>\n",
       "    <tr>\n",
       "      <th>2449969</th>\n",
       "      <td>1</td>\n",
       "      <td>301</td>\n",
       "      <td>1</td>\n",
       "      <td>3</td>\n",
       "      <td>0</td>\n",
       "      <td>37.696533</td>\n",
       "      <td>229.269440</td>\n",
       "      <td>115.062785</td>\n",
       "      <td>285.793455</td>\n",
       "    </tr>\n",
       "    <tr>\n",
       "      <th>2449970</th>\n",
       "      <td>1</td>\n",
       "      <td>301</td>\n",
       "      <td>1</td>\n",
       "      <td>2</td>\n",
       "      <td>1</td>\n",
       "      <td>93.739845</td>\n",
       "      <td>206.347382</td>\n",
       "      <td>182.895682</td>\n",
       "      <td>1393.593469</td>\n",
       "    </tr>\n",
       "    <tr>\n",
       "      <th>2449971</th>\n",
       "      <td>1</td>\n",
       "      <td>301</td>\n",
       "      <td>1</td>\n",
       "      <td>2</td>\n",
       "      <td>0</td>\n",
       "      <td>235.395279</td>\n",
       "      <td>312.460571</td>\n",
       "      <td>155.111664</td>\n",
       "      <td>21086.169920</td>\n",
       "    </tr>\n",
       "    <tr>\n",
       "      <th>2449974</th>\n",
       "      <td>1</td>\n",
       "      <td>301</td>\n",
       "      <td>1</td>\n",
       "      <td>1</td>\n",
       "      <td>1</td>\n",
       "      <td>47.883579</td>\n",
       "      <td>160.118484</td>\n",
       "      <td>78.131542</td>\n",
       "      <td>5348.440780</td>\n",
       "    </tr>\n",
       "    <tr>\n",
       "      <th>2449975</th>\n",
       "      <td>1</td>\n",
       "      <td>301</td>\n",
       "      <td>1</td>\n",
       "      <td>3</td>\n",
       "      <td>0</td>\n",
       "      <td>76.299294</td>\n",
       "      <td>214.734192</td>\n",
       "      <td>136.685609</td>\n",
       "      <td>953.198440</td>\n",
       "    </tr>\n",
       "    <tr>\n",
       "      <th>2449977</th>\n",
       "      <td>1</td>\n",
       "      <td>301</td>\n",
       "      <td>1</td>\n",
       "      <td>2</td>\n",
       "      <td>1</td>\n",
       "      <td>95.978943</td>\n",
       "      <td>230.559418</td>\n",
       "      <td>204.463466</td>\n",
       "      <td>207.983678</td>\n",
       "    </tr>\n",
       "    <tr>\n",
       "      <th>2449979</th>\n",
       "      <td>1</td>\n",
       "      <td>301</td>\n",
       "      <td>1</td>\n",
       "      <td>2</td>\n",
       "      <td>0</td>\n",
       "      <td>88.818558</td>\n",
       "      <td>131.387039</td>\n",
       "      <td>65.963145</td>\n",
       "      <td>1937.061898</td>\n",
       "    </tr>\n",
       "    <tr>\n",
       "      <th>2449980</th>\n",
       "      <td>1</td>\n",
       "      <td>301</td>\n",
       "      <td>1</td>\n",
       "      <td>1</td>\n",
       "      <td>1</td>\n",
       "      <td>22.980894</td>\n",
       "      <td>189.704224</td>\n",
       "      <td>72.176365</td>\n",
       "      <td>2314.314343</td>\n",
       "    </tr>\n",
       "    <tr>\n",
       "      <th>2449981</th>\n",
       "      <td>1</td>\n",
       "      <td>301</td>\n",
       "      <td>1</td>\n",
       "      <td>2</td>\n",
       "      <td>0</td>\n",
       "      <td>110.302681</td>\n",
       "      <td>279.953705</td>\n",
       "      <td>194.841729</td>\n",
       "      <td>296.287847</td>\n",
       "    </tr>\n",
       "    <tr>\n",
       "      <th>2449984</th>\n",
       "      <td>1</td>\n",
       "      <td>301</td>\n",
       "      <td>1</td>\n",
       "      <td>3</td>\n",
       "      <td>0</td>\n",
       "      <td>76.499191</td>\n",
       "      <td>312.451141</td>\n",
       "      <td>191.181123</td>\n",
       "      <td>360.512864</td>\n",
       "    </tr>\n",
       "    <tr>\n",
       "      <th>2449988</th>\n",
       "      <td>1</td>\n",
       "      <td>301</td>\n",
       "      <td>1</td>\n",
       "      <td>2</td>\n",
       "      <td>1</td>\n",
       "      <td>32.658558</td>\n",
       "      <td>162.059814</td>\n",
       "      <td>60.386233</td>\n",
       "      <td>978.836610</td>\n",
       "    </tr>\n",
       "    <tr>\n",
       "      <th>2449991</th>\n",
       "      <td>1</td>\n",
       "      <td>301</td>\n",
       "      <td>1</td>\n",
       "      <td>3</td>\n",
       "      <td>0</td>\n",
       "      <td>20.875618</td>\n",
       "      <td>178.321152</td>\n",
       "      <td>64.971579</td>\n",
       "      <td>3167.597481</td>\n",
       "    </tr>\n",
       "    <tr>\n",
       "      <th>2449997</th>\n",
       "      <td>1</td>\n",
       "      <td>301</td>\n",
       "      <td>1</td>\n",
       "      <td>1</td>\n",
       "      <td>2</td>\n",
       "      <td>46.890873</td>\n",
       "      <td>215.025528</td>\n",
       "      <td>9.465311</td>\n",
       "      <td>7283.382291</td>\n",
       "    </tr>\n",
       "    <tr>\n",
       "      <th>2449998</th>\n",
       "      <td>1</td>\n",
       "      <td>301</td>\n",
       "      <td>1</td>\n",
       "      <td>3</td>\n",
       "      <td>0</td>\n",
       "      <td>35.415920</td>\n",
       "      <td>239.819489</td>\n",
       "      <td>134.346170</td>\n",
       "      <td>1478.450567</td>\n",
       "    </tr>\n",
       "  </tbody>\n",
       "</table>\n",
       "<p>95888 rows × 9 columns</p>\n",
       "</div>"
      ],
      "text/plain": [
       "         label  process_id  lepton  photon  jet         met          ht  \\\n",
       "3599999      0        1001       2       1    2   97.886528  219.074158   \n",
       "3600033      0        1001       1       1    2   40.998829  185.086273   \n",
       "3600051      0        1001       2       1    1   44.470272  195.993210   \n",
       "3600060      0        1001       1       1    2  162.770081  366.536774   \n",
       "3600070      0        1001       2       1    2  127.611923  493.484314   \n",
       "3600090      0        1001       1       1    2   43.524670  186.910706   \n",
       "3600118      0        1001       1       1    1  392.532410  713.835999   \n",
       "3600119      0        1001       2       1    2  137.816895  424.476410   \n",
       "3600120      0        1001       2       1    2   90.924797  212.771606   \n",
       "3600121      0        1001       2       1    2   85.520042  361.064026   \n",
       "3600124      0        1001       1       1    2   63.278679  519.223755   \n",
       "3600166      0        1001       1       1    2   56.439445  231.380630   \n",
       "3600181      0        1001       1       1    2   92.743973  238.750931   \n",
       "3600227      0        1001       2       1    2   46.044586  652.190247   \n",
       "3600232      0        1001       2       2    2   32.403736  275.258881   \n",
       "3600253      0        1001       1       1    2   80.364517  243.501297   \n",
       "3600270      0        1001       2       1    1  159.422897  287.653046   \n",
       "3600275      0        1001       1       1    2  267.932098  529.251709   \n",
       "3600286      0        1001       2       1    2   47.754246  264.507324   \n",
       "3600307      0        1001       2       1    2   34.386982  310.871826   \n",
       "3600324      0        1001       1       1    2  340.697571  509.623535   \n",
       "3600328      0        1001       2       1    2   37.640961  257.828888   \n",
       "3600352      0        1001       1       1    2   24.167656  154.476379   \n",
       "3600360      0        1001       1       1    2  142.565674  519.315308   \n",
       "3600385      0        1001       1       1    2  119.214516  260.191406   \n",
       "3600393      0        1001       1       1    2   37.022358  345.785706   \n",
       "3600401      0        1001       1       1    2   55.517220  131.752182   \n",
       "3600416      0        1001       2       1    2   49.296078  275.048340   \n",
       "3600418      0        1001       2       1    2   63.278191  268.733582   \n",
       "3600434      0        1001       1       1    2   55.399380  171.507980   \n",
       "...        ...         ...     ...     ...  ...         ...         ...   \n",
       "2449933      1         301       1       2    0   62.514603  208.366089   \n",
       "2449936      1         301       1       3    0   29.360891   97.354004   \n",
       "2449937      1         301       1       3    1  356.066223  883.932434   \n",
       "2449940      1         301       1       3    0   88.051094  175.217300   \n",
       "2449944      1         301       1       3    1   62.179394  203.497437   \n",
       "2449945      1         301       1       3    0   29.467844  150.191940   \n",
       "2449946      1         301       1       2    1   25.248417  151.248978   \n",
       "2449949      1         301       1       1    2   90.029617  215.572250   \n",
       "2449950      1         301       1       1    2   22.172358  327.212585   \n",
       "2449951      1         301       1       3    0   40.673927  177.534286   \n",
       "2449953      1         301       1       1    1   17.325653  181.266464   \n",
       "2449956      1         301       1       2    2   50.289272  221.814835   \n",
       "2449962      1         301       1       1    1   21.542637  125.732399   \n",
       "2449965      1         301       1       1    2   49.233425  196.916473   \n",
       "2449966      1         301       1       2    1   42.624004  216.879852   \n",
       "2449968      1         301       1       1    2   81.031746  156.876022   \n",
       "2449969      1         301       1       3    0   37.696533  229.269440   \n",
       "2449970      1         301       1       2    1   93.739845  206.347382   \n",
       "2449971      1         301       1       2    0  235.395279  312.460571   \n",
       "2449974      1         301       1       1    1   47.883579  160.118484   \n",
       "2449975      1         301       1       3    0   76.299294  214.734192   \n",
       "2449977      1         301       1       2    1   95.978943  230.559418   \n",
       "2449979      1         301       1       2    0   88.818558  131.387039   \n",
       "2449980      1         301       1       1    1   22.980894  189.704224   \n",
       "2449981      1         301       1       2    0  110.302681  279.953705   \n",
       "2449984      1         301       1       3    0   76.499191  312.451141   \n",
       "2449988      1         301       1       2    1   32.658558  162.059814   \n",
       "2449991      1         301       1       3    0   20.875618  178.321152   \n",
       "2449997      1         301       1       1    2   46.890873  215.025528   \n",
       "2449998      1         301       1       3    0   35.415920  239.819489   \n",
       "\n",
       "                 pt            pq  \n",
       "3599999  123.278037   1253.995967  \n",
       "3600033   56.724369    978.895190  \n",
       "3600051   48.136503   6110.158880  \n",
       "3600060  321.829058   1936.234262  \n",
       "3600070  141.857901  38167.158704  \n",
       "3600090   50.437472   1872.965403  \n",
       "3600118  676.372397  13954.173071  \n",
       "3600119  100.776832   6525.187982  \n",
       "3600120   97.929797   8872.845225  \n",
       "3600121  203.419947    705.423772  \n",
       "3600124  255.181308  16957.994831  \n",
       "3600166   40.954004   1128.380343  \n",
       "3600181  129.531002    319.539615  \n",
       "3600227  116.420334  16053.914716  \n",
       "3600232  112.979842   1916.597887  \n",
       "3600253  162.698028    426.357955  \n",
       "3600270  101.030669  37528.585991  \n",
       "3600275  337.450299  38824.652958  \n",
       "3600286   51.124674   7635.510943  \n",
       "3600307   68.913779   1529.970103  \n",
       "3600324  476.141043     49.418576  \n",
       "3600328   76.826258  13226.619011  \n",
       "3600352   12.162658   1724.125509  \n",
       "3600360  128.552527  21128.260730  \n",
       "3600385  192.630017   2267.558779  \n",
       "3600393  106.551669  15769.781830  \n",
       "3600401   74.304246   3411.114457  \n",
       "3600416  110.580957   2349.848860  \n",
       "3600418   40.884682    617.720707  \n",
       "3600434  126.686145    785.171459  \n",
       "...             ...           ...  \n",
       "2449933   42.265476  12327.625787  \n",
       "2449936   87.354440   3423.095275  \n",
       "2449937  728.236008   1168.881002  \n",
       "2449940  143.606742    729.662650  \n",
       "2449944   85.029183   2762.920578  \n",
       "2449945   81.934887    229.880894  \n",
       "2449946   32.671552   2323.865503  \n",
       "2449949  137.893144   8090.761767  \n",
       "2449950   70.952294   3691.604995  \n",
       "2449951   53.131963    246.038319  \n",
       "2449953   64.240053   4618.358914  \n",
       "2449956  124.439100   1724.329459  \n",
       "2449962   25.452641   3631.711785  \n",
       "2449965   95.318223   2562.147729  \n",
       "2449966  129.260923    390.758004  \n",
       "2449968   90.187115  10308.888356  \n",
       "2449969  115.062785    285.793455  \n",
       "2449970  182.895682   1393.593469  \n",
       "2449971  155.111664  21086.169920  \n",
       "2449974   78.131542   5348.440780  \n",
       "2449975  136.685609    953.198440  \n",
       "2449977  204.463466    207.983678  \n",
       "2449979   65.963145   1937.061898  \n",
       "2449980   72.176365   2314.314343  \n",
       "2449981  194.841729    296.287847  \n",
       "2449984  191.181123    360.512864  \n",
       "2449988   60.386233    978.836610  \n",
       "2449991   64.971579   3167.597481  \n",
       "2449997    9.465311   7283.382291  \n",
       "2449998  134.346170   1478.450567  \n",
       "\n",
       "[95888 rows x 9 columns]"
      ]
     },
     "execution_count": 55,
     "metadata": {},
     "output_type": "execute_result"
    }
   ],
   "source": [
    "data_new.drop(['prediction'],axis=1)"
   ]
  },
  {
   "cell_type": "code",
   "execution_count": 56,
   "metadata": {
    "collapsed": true
   },
   "outputs": [],
   "source": [
    "y= data_new['label']"
   ]
  },
  {
   "cell_type": "code",
   "execution_count": 57,
   "metadata": {
    "collapsed": true
   },
   "outputs": [],
   "source": [
    "x = data_new.drop(['label','process_id','prediction'],axis=1)"
   ]
  },
  {
   "cell_type": "code",
   "execution_count": 58,
   "metadata": {
    "collapsed": true
   },
   "outputs": [],
   "source": [
    "scaler = preprocessing.StandardScaler().fit(x)"
   ]
  },
  {
   "cell_type": "code",
   "execution_count": 59,
   "metadata": {
    "collapsed": true
   },
   "outputs": [],
   "source": [
    "x_scaled = scaler.transform(x)"
   ]
  },
  {
   "cell_type": "code",
   "execution_count": 60,
   "metadata": {
    "collapsed": true
   },
   "outputs": [],
   "source": [
    "x_train,x_test,y_train,y_test = train_test_split(x_scaled,y,test_size=0.3)"
   ]
  },
  {
   "cell_type": "code",
   "execution_count": 139,
   "metadata": {
    "collapsed": true
   },
   "outputs": [],
   "source": [
    "tree_reg = DecisionTreeClassifier(max_depth=10)"
   ]
  },
  {
   "cell_type": "code",
   "execution_count": 140,
   "metadata": {},
   "outputs": [
    {
     "data": {
      "text/plain": [
       "DecisionTreeClassifier(class_weight=None, criterion='gini', max_depth=10,\n",
       "            max_features=None, max_leaf_nodes=None,\n",
       "            min_impurity_decrease=0.0, min_impurity_split=None,\n",
       "            min_samples_leaf=1, min_samples_split=2,\n",
       "            min_weight_fraction_leaf=0.0, presort=False, random_state=None,\n",
       "            splitter='best')"
      ]
     },
     "execution_count": 140,
     "metadata": {},
     "output_type": "execute_result"
    }
   ],
   "source": [
    "tree_reg.fit(x_train,y_train)"
   ]
  },
  {
   "cell_type": "code",
   "execution_count": 141,
   "metadata": {
    "collapsed": true
   },
   "outputs": [],
   "source": [
    "y_train_predict = tree_reg.predict(x_train)"
   ]
  },
  {
   "cell_type": "code",
   "execution_count": 142,
   "metadata": {},
   "outputs": [
    {
     "data": {
      "text/plain": [
       "0.8636790274280777"
      ]
     },
     "execution_count": 142,
     "metadata": {},
     "output_type": "execute_result"
    }
   ],
   "source": [
    "accuracy_score(y_train,y_train_predict)"
   ]
  },
  {
   "cell_type": "code",
   "execution_count": 143,
   "metadata": {
    "collapsed": true
   },
   "outputs": [],
   "source": [
    "y_test_predict = tree_reg.predict(x_test)"
   ]
  },
  {
   "cell_type": "code",
   "execution_count": 144,
   "metadata": {},
   "outputs": [
    {
     "data": {
      "text/plain": [
       "0.8437793304828449"
      ]
     },
     "execution_count": 144,
     "metadata": {},
     "output_type": "execute_result"
    }
   ],
   "source": [
    "accuracy_score(y_test,y_test_predict)"
   ]
  },
  {
   "cell_type": "code",
   "execution_count": 145,
   "metadata": {},
   "outputs": [
    {
     "data": {
      "text/plain": [
       "0.8086613985814253"
      ]
     },
     "execution_count": 145,
     "metadata": {},
     "output_type": "execute_result"
    }
   ],
   "source": [
    "roc_auc_score(y_test,y_test_predict_pro[:,1])"
   ]
  },
  {
   "cell_type": "code",
   "execution_count": 146,
   "metadata": {
    "collapsed": true
   },
   "outputs": [],
   "source": [
    "y_test_predict_pro = tree_reg.predict_proba(x_test)"
   ]
  },
  {
   "cell_type": "code",
   "execution_count": 147,
   "metadata": {
    "collapsed": true
   },
   "outputs": [],
   "source": [
    "fpr, tpr,thresholds = metrics.roc_curve(y_test,y_test_predict_pro[:,1])"
   ]
  },
  {
   "cell_type": "code",
   "execution_count": 148,
   "metadata": {},
   "outputs": [
    {
     "data": {
      "text/plain": [
       "[<matplotlib.lines.Line2D at 0x7ff69f33b048>]"
      ]
     },
     "execution_count": 148,
     "metadata": {},
     "output_type": "execute_result"
    },
    {
     "data": {
      "image/png": "[encoded data removed]",
      "text/plain": [
       "<Figure size 432x288 with 1 Axes>"
      ]
     },
     "metadata": {},
     "output_type": "display_data"
    }
   ],
   "source": [
    "plt.plot(tpr,1-fpr)"
   ]
  },
  {
   "cell_type": "code",
   "execution_count": null,
   "metadata": {
    "collapsed": true
   },
   "outputs": [],
   "source": [
    "pd.options.display."
   ]
  }
 ],
 "metadata": {
  "kernelspec": {
   "display_name": "Python [conda env:tensorflow]",
   "language": "python",
   "name": "conda-env-tensorflow-py"
  },
  "language_info": {
   "codemirror_mode": {
    "name": "ipython",
    "version": 3
   },
   "file_extension": ".py",
   "mimetype": "text/x-python",
   "name": "python",
   "nbconvert_exporter": "python",
   "pygments_lexer": "ipython3",
   "version": "3.6.5"
  }
 },
 "nbformat": 4,
 "nbformat_minor": 2
}

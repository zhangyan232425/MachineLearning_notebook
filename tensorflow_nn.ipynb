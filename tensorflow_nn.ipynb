{
 "cells": [
  {
   "cell_type": "markdown",
   "metadata": {},
   "source": [
    "Deep neural network is an ANN which has two or mor hidden layer.\n",
    "<img src=\"active function.png\"/>"
   ]
  },
  {
   "cell_type": "markdown",
   "metadata": {},
   "source": [
    "# High level API"
   ]
  },
  {
   "cell_type": "code",
   "execution_count": 52,
   "metadata": {},
   "outputs": [],
   "source": [
    "import tensorflow as tf \n",
    "import pandas as pd\n",
    "import numpy as np\n",
    "import matplotlib.pyplot as plt"
   ]
  },
  {
   "cell_type": "code",
   "execution_count": 53,
   "metadata": {},
   "outputs": [],
   "source": [
    "raw_data = pd.read_csv('~zyan/program/ml/datasets/home-credit-default-risk/application_train.csv')"
   ]
  },
  {
   "cell_type": "code",
   "execution_count": 54,
   "metadata": {},
   "outputs": [],
   "source": [
    "colums_type = raw_data.dtypes\n",
    "colums_drop = []\n",
    "for item in colums_type.keys():\n",
    "    if colums_type[item]=='object':\n",
    "        colums_drop.append(item)"
   ]
  },
  {
   "cell_type": "code",
   "execution_count": 55,
   "metadata": {},
   "outputs": [],
   "source": [
    "data_num = raw_data.copy()\n",
    "data_num  = data_num.drop(colums_drop,axis=1)"
   ]
  },
  {
   "cell_type": "code",
   "execution_count": 56,
   "metadata": {},
   "outputs": [],
   "source": [
    "from sklearn.model_selection import train_test_split\n",
    "x_train,x_test,y_train,y_test = train_test_split(data_num,data_num['TARGET'],test_size=0.2)\n",
    "x_train = x_train.drop('TARGET',axis=1)\n",
    "x_test = x_test.drop('TARGET',axis=1)"
   ]
  },
  {
   "cell_type": "code",
   "execution_count": 6,
   "metadata": {},
   "outputs": [
    {
     "data": {
      "text/plain": [
       "SK_ID_CURR                     False\n",
       "CNT_CHILDREN                   False\n",
       "AMT_INCOME_TOTAL               False\n",
       "AMT_CREDIT                     False\n",
       "AMT_ANNUITY                     True\n",
       "AMT_GOODS_PRICE                 True\n",
       "REGION_POPULATION_RELATIVE     False\n",
       "DAYS_BIRTH                     False\n",
       "DAYS_EMPLOYED                  False\n",
       "DAYS_REGISTRATION              False\n",
       "DAYS_ID_PUBLISH                False\n",
       "OWN_CAR_AGE                     True\n",
       "FLAG_MOBIL                     False\n",
       "FLAG_EMP_PHONE                 False\n",
       "FLAG_WORK_PHONE                False\n",
       "FLAG_CONT_MOBILE               False\n",
       "FLAG_PHONE                     False\n",
       "FLAG_EMAIL                     False\n",
       "CNT_FAM_MEMBERS                 True\n",
       "REGION_RATING_CLIENT           False\n",
       "REGION_RATING_CLIENT_W_CITY    False\n",
       "HOUR_APPR_PROCESS_START        False\n",
       "REG_REGION_NOT_LIVE_REGION     False\n",
       "REG_REGION_NOT_WORK_REGION     False\n",
       "LIVE_REGION_NOT_WORK_REGION    False\n",
       "REG_CITY_NOT_LIVE_CITY         False\n",
       "REG_CITY_NOT_WORK_CITY         False\n",
       "LIVE_CITY_NOT_WORK_CITY        False\n",
       "EXT_SOURCE_1                    True\n",
       "EXT_SOURCE_2                    True\n",
       "                               ...  \n",
       "DEF_30_CNT_SOCIAL_CIRCLE        True\n",
       "OBS_60_CNT_SOCIAL_CIRCLE        True\n",
       "DEF_60_CNT_SOCIAL_CIRCLE        True\n",
       "DAYS_LAST_PHONE_CHANGE          True\n",
       "FLAG_DOCUMENT_2                False\n",
       "FLAG_DOCUMENT_3                False\n",
       "FLAG_DOCUMENT_4                False\n",
       "FLAG_DOCUMENT_5                False\n",
       "FLAG_DOCUMENT_6                False\n",
       "FLAG_DOCUMENT_7                False\n",
       "FLAG_DOCUMENT_8                False\n",
       "FLAG_DOCUMENT_9                False\n",
       "FLAG_DOCUMENT_10               False\n",
       "FLAG_DOCUMENT_11               False\n",
       "FLAG_DOCUMENT_12               False\n",
       "FLAG_DOCUMENT_13               False\n",
       "FLAG_DOCUMENT_14               False\n",
       "FLAG_DOCUMENT_15               False\n",
       "FLAG_DOCUMENT_16               False\n",
       "FLAG_DOCUMENT_17               False\n",
       "FLAG_DOCUMENT_18               False\n",
       "FLAG_DOCUMENT_19               False\n",
       "FLAG_DOCUMENT_20               False\n",
       "FLAG_DOCUMENT_21               False\n",
       "AMT_REQ_CREDIT_BUREAU_HOUR      True\n",
       "AMT_REQ_CREDIT_BUREAU_DAY       True\n",
       "AMT_REQ_CREDIT_BUREAU_WEEK      True\n",
       "AMT_REQ_CREDIT_BUREAU_MON       True\n",
       "AMT_REQ_CREDIT_BUREAU_QRT       True\n",
       "AMT_REQ_CREDIT_BUREAU_YEAR      True\n",
       "Length: 105, dtype: bool"
      ]
     },
     "execution_count": 6,
     "metadata": {},
     "output_type": "execute_result"
    }
   ],
   "source": [
    "x_train.isnull().any()"
   ]
  },
  {
   "cell_type": "code",
   "execution_count": 57,
   "metadata": {},
   "outputs": [],
   "source": [
    "from sklearn.preprocessing import Imputer\n",
    "from sklearn.preprocessing import StandardScaler\n",
    "from sklearn.pipeline import Pipeline"
   ]
  },
  {
   "cell_type": "code",
   "execution_count": 58,
   "metadata": {},
   "outputs": [],
   "source": [
    "pipeline = Pipeline([\n",
    "    ('imputer',Imputer(strategy='median')),\n",
    "    ('std_scaler',StandardScaler()),\n",
    "])"
   ]
  },
  {
   "cell_type": "code",
   "execution_count": 59,
   "metadata": {},
   "outputs": [],
   "source": [
    "x_train_prepared = pipeline.fit_transform(x_train)\n",
    "x_test_prepared = pipeline.fit_transform(x_test)"
   ]
  },
  {
   "cell_type": "code",
   "execution_count": 60,
   "metadata": {},
   "outputs": [
    {
     "data": {
      "text/plain": [
       "False"
      ]
     },
     "execution_count": 60,
     "metadata": {},
     "output_type": "execute_result"
    }
   ],
   "source": [
    "np.isnan(x_train_prepared).any()"
   ]
  },
  {
   "cell_type": "code",
   "execution_count": 61,
   "metadata": {},
   "outputs": [],
   "source": [
    "x_train_prepared = x_train_prepared.astype(np.float32)\n",
    "x_test_prepared = x_test_prepared.astype(np.float32)"
   ]
  },
  {
   "cell_type": "code",
   "execution_count": 12,
   "metadata": {},
   "outputs": [],
   "source": [
    "feature_columns =  tf.contrib.learn.infer_real_valued_columns_from_input(x_train_prepared)"
   ]
  },
  {
   "cell_type": "code",
   "execution_count": 13,
   "metadata": {},
   "outputs": [
    {
     "name": "stdout",
     "output_type": "stream",
     "text": [
      "INFO:tensorflow:Using default config.\n",
      "WARNING:tensorflow:Using temporary folder as model directory: /var/folders/1s/qtqrxn550bl_09sghrlnzkgr0000gn/T/tmphdr55s83\n",
      "INFO:tensorflow:Using config: {'_task_type': None, '_task_id': 0, '_cluster_spec': <tensorflow.python.training.server_lib.ClusterSpec object at 0x16fb233c8>, '_master': '', '_num_ps_replicas': 0, '_num_worker_replicas': 0, '_environment': 'local', '_is_chief': True, '_evaluation_master': '', '_tf_config': gpu_options {\n",
      "  per_process_gpu_memory_fraction: 1.0\n",
      "}\n",
      ", '_tf_random_seed': None, '_save_summary_steps': 100, '_save_checkpoints_secs': 600, '_log_step_count_steps': 100, '_session_config': None, '_save_checkpoints_steps': None, '_keep_checkpoint_max': 5, '_keep_checkpoint_every_n_hours': 10000, '_model_dir': '/var/folders/1s/qtqrxn550bl_09sghrlnzkgr0000gn/T/tmphdr55s83'}\n"
     ]
    }
   ],
   "source": [
    "dnn_clf = tf.contrib.learn.DNNClassifier(hidden_units=[100,300],n_classes=2,feature_columns=feature_columns)"
   ]
  },
  {
   "cell_type": "code",
   "execution_count": 14,
   "metadata": {},
   "outputs": [
    {
     "name": "stdout",
     "output_type": "stream",
     "text": [
      "WARNING:tensorflow:From <ipython-input-14-38806093bfd3>:1: calling BaseEstimator.fit (from tensorflow.contrib.learn.python.learn.estimators.estimator) with x is deprecated and will be removed after 2016-12-01.\n",
      "Instructions for updating:\n",
      "Estimator is decoupled from Scikit Learn interface by moving into\n",
      "separate class SKCompat. Arguments x, y and batch_size are only\n",
      "available in the SKCompat class, Estimator will only accept input_fn.\n",
      "Example conversion:\n",
      "  est = Estimator(...) -> est = SKCompat(Estimator(...))\n",
      "WARNING:tensorflow:From <ipython-input-14-38806093bfd3>:1: calling BaseEstimator.fit (from tensorflow.contrib.learn.python.learn.estimators.estimator) with y is deprecated and will be removed after 2016-12-01.\n",
      "Instructions for updating:\n",
      "Estimator is decoupled from Scikit Learn interface by moving into\n",
      "separate class SKCompat. Arguments x, y and batch_size are only\n",
      "available in the SKCompat class, Estimator will only accept input_fn.\n",
      "Example conversion:\n",
      "  est = Estimator(...) -> est = SKCompat(Estimator(...))\n",
      "WARNING:tensorflow:From <ipython-input-14-38806093bfd3>:1: calling BaseEstimator.fit (from tensorflow.contrib.learn.python.learn.estimators.estimator) with batch_size is deprecated and will be removed after 2016-12-01.\n",
      "Instructions for updating:\n",
      "Estimator is decoupled from Scikit Learn interface by moving into\n",
      "separate class SKCompat. Arguments x, y and batch_size are only\n",
      "available in the SKCompat class, Estimator will only accept input_fn.\n",
      "Example conversion:\n",
      "  est = Estimator(...) -> est = SKCompat(Estimator(...))\n",
      "WARNING:tensorflow:Casting <dtype: 'int64'> labels to bool.\n",
      "WARNING:tensorflow:Casting <dtype: 'int64'> labels to bool.\n",
      "INFO:tensorflow:Create CheckpointSaverHook.\n",
      "INFO:tensorflow:Graph was finalized.\n",
      "INFO:tensorflow:Running local_init_op.\n",
      "INFO:tensorflow:Done running local_init_op.\n",
      "INFO:tensorflow:Saving checkpoints for 1 into /var/folders/1s/qtqrxn550bl_09sghrlnzkgr0000gn/T/tmphdr55s83/model.ckpt.\n",
      "INFO:tensorflow:loss = 0.6192591, step = 1\n",
      "INFO:tensorflow:global_step/sec: 219.817\n",
      "INFO:tensorflow:loss = 0.169563, step = 101 (0.456 sec)\n",
      "INFO:tensorflow:global_step/sec: 230.883\n",
      "INFO:tensorflow:loss = 0.2501277, step = 201 (0.433 sec)\n",
      "INFO:tensorflow:global_step/sec: 240.643\n",
      "INFO:tensorflow:loss = 0.27767223, step = 301 (0.416 sec)\n",
      "INFO:tensorflow:global_step/sec: 241.464\n",
      "INFO:tensorflow:loss = 0.20654924, step = 401 (0.414 sec)\n",
      "INFO:tensorflow:global_step/sec: 244.46\n",
      "INFO:tensorflow:loss = 0.20618743, step = 501 (0.409 sec)\n",
      "INFO:tensorflow:global_step/sec: 233.51\n",
      "INFO:tensorflow:loss = 0.41587982, step = 601 (0.429 sec)\n",
      "INFO:tensorflow:global_step/sec: 242.613\n",
      "INFO:tensorflow:loss = 0.28944108, step = 701 (0.411 sec)\n",
      "INFO:tensorflow:global_step/sec: 245.043\n",
      "INFO:tensorflow:loss = 0.28581047, step = 801 (0.409 sec)\n",
      "INFO:tensorflow:global_step/sec: 226.547\n",
      "INFO:tensorflow:loss = 0.15374301, step = 901 (0.441 sec)\n",
      "INFO:tensorflow:Saving checkpoints for 1000 into /var/folders/1s/qtqrxn550bl_09sghrlnzkgr0000gn/T/tmphdr55s83/model.ckpt.\n",
      "INFO:tensorflow:Loss for final step: 0.15377942.\n"
     ]
    },
    {
     "data": {
      "text/plain": [
       "DNNClassifier(params={'head': <tensorflow.contrib.learn.python.learn.estimators.head._BinaryLogisticHead object at 0x16fb23208>, 'hidden_units': [100, 300], 'feature_columns': (_RealValuedColumn(column_name='', dimension=105, default_value=None, dtype=tf.float32, normalizer=None),), 'optimizer': None, 'activation_fn': <function relu at 0x1159ae950>, 'dropout': None, 'gradient_clip_norm': None, 'embedding_lr_multipliers': None, 'input_layer_min_slice_size': None})"
      ]
     },
     "execution_count": 14,
     "metadata": {},
     "output_type": "execute_result"
    }
   ],
   "source": [
    "dnn_clf.fit(x=x_train_prepared,y=y_train,batch_size=100,steps=1000)"
   ]
  },
  {
   "cell_type": "code",
   "execution_count": 15,
   "metadata": {},
   "outputs": [],
   "source": [
    "from sklearn.metrics import accuracy_score"
   ]
  },
  {
   "cell_type": "code",
   "execution_count": 16,
   "metadata": {},
   "outputs": [
    {
     "name": "stdout",
     "output_type": "stream",
     "text": [
      "WARNING:tensorflow:From /Users/zyan/anaconda/envs/DeepLearning/lib/python3.6/site-packages/tensorflow/python/util/deprecation.py:497: calling DNNClassifier.predict (from tensorflow.contrib.learn.python.learn.estimators.dnn) with outputs=None is deprecated and will be removed after 2017-03-01.\n",
      "Instructions for updating:\n",
      "Please switch to predict_classes, or set `outputs` argument.\n",
      "WARNING:tensorflow:From /Users/zyan/anaconda/envs/DeepLearning/lib/python3.6/site-packages/tensorflow/contrib/learn/python/learn/estimators/dnn.py:454: calling BaseEstimator.predict (from tensorflow.contrib.learn.python.learn.estimators.estimator) with x is deprecated and will be removed after 2016-12-01.\n",
      "Instructions for updating:\n",
      "Estimator is decoupled from Scikit Learn interface by moving into\n",
      "separate class SKCompat. Arguments x, y and batch_size are only\n",
      "available in the SKCompat class, Estimator will only accept input_fn.\n",
      "Example conversion:\n",
      "  est = Estimator(...) -> est = SKCompat(Estimator(...))\n",
      "INFO:tensorflow:Graph was finalized.\n",
      "INFO:tensorflow:Restoring parameters from /var/folders/1s/qtqrxn550bl_09sghrlnzkgr0000gn/T/tmphdr55s83/model.ckpt-1000\n",
      "INFO:tensorflow:Running local_init_op.\n",
      "INFO:tensorflow:Done running local_init_op.\n"
     ]
    }
   ],
   "source": [
    "y_pred = list(dnn_clf.predict(x_test_prepared))"
   ]
  },
  {
   "cell_type": "code",
   "execution_count": 17,
   "metadata": {},
   "outputs": [
    {
     "data": {
      "text/plain": [
       "0.9191258962977416"
      ]
     },
     "execution_count": 17,
     "metadata": {},
     "output_type": "execute_result"
    }
   ],
   "source": [
    "accuracy_score(y_pred,y_test)"
   ]
  },
  {
   "cell_type": "code",
   "execution_count": 18,
   "metadata": {},
   "outputs": [
    {
     "name": "stdout",
     "output_type": "stream",
     "text": [
      "INFO:tensorflow:Graph was finalized.\n",
      "INFO:tensorflow:Restoring parameters from /var/folders/1s/qtqrxn550bl_09sghrlnzkgr0000gn/T/tmphdr55s83/model.ckpt-1000\n",
      "INFO:tensorflow:Running local_init_op.\n",
      "INFO:tensorflow:Done running local_init_op.\n"
     ]
    }
   ],
   "source": [
    "y_pred_pro = list(dnn_clf.predict_proba(x_test_prepared))"
   ]
  },
  {
   "cell_type": "code",
   "execution_count": 19,
   "metadata": {},
   "outputs": [],
   "source": [
    "y_pred_pro = np.array(y_pred_pro)"
   ]
  },
  {
   "cell_type": "code",
   "execution_count": 20,
   "metadata": {},
   "outputs": [],
   "source": [
    "from sklearn.metrics import roc_curve\n",
    "from sklearn.metrics import roc_auc_score"
   ]
  },
  {
   "cell_type": "code",
   "execution_count": 21,
   "metadata": {},
   "outputs": [],
   "source": [
    "fpr_rf,tpr_rf,_ = roc_curve(y_test,y_pred_pro[:,1]) "
   ]
  },
  {
   "cell_type": "code",
   "execution_count": 22,
   "metadata": {},
   "outputs": [
    {
     "data": {
      "text/plain": [
       "[<matplotlib.lines.Line2D at 0x1169eab38>]"
      ]
     },
     "execution_count": 22,
     "metadata": {},
     "output_type": "execute_result"
    },
    {
     "data": {
      "image/png": "[encoded data removed]",
      "text/plain": [
       "<Figure size 432x288 with 1 Axes>"
      ]
     },
     "metadata": {},
     "output_type": "display_data"
    }
   ],
   "source": [
    "plt.plot(fpr_rf,tpr_rf)"
   ]
  },
  {
   "cell_type": "code",
   "execution_count": 23,
   "metadata": {},
   "outputs": [
    {
     "name": "stdout",
     "output_type": "stream",
     "text": [
      "WARNING:tensorflow:From <ipython-input-23-0c0e6afd04a3>:1: calling BaseEstimator.evaluate (from tensorflow.contrib.learn.python.learn.estimators.estimator) with x is deprecated and will be removed after 2016-12-01.\n",
      "Instructions for updating:\n",
      "Estimator is decoupled from Scikit Learn interface by moving into\n",
      "separate class SKCompat. Arguments x, y and batch_size are only\n",
      "available in the SKCompat class, Estimator will only accept input_fn.\n",
      "Example conversion:\n",
      "  est = Estimator(...) -> est = SKCompat(Estimator(...))\n",
      "WARNING:tensorflow:From <ipython-input-23-0c0e6afd04a3>:1: calling BaseEstimator.evaluate (from tensorflow.contrib.learn.python.learn.estimators.estimator) with y is deprecated and will be removed after 2016-12-01.\n",
      "Instructions for updating:\n",
      "Estimator is decoupled from Scikit Learn interface by moving into\n",
      "separate class SKCompat. Arguments x, y and batch_size are only\n",
      "available in the SKCompat class, Estimator will only accept input_fn.\n",
      "Example conversion:\n",
      "  est = Estimator(...) -> est = SKCompat(Estimator(...))\n",
      "WARNING:tensorflow:Casting <dtype: 'int64'> labels to bool.\n",
      "WARNING:tensorflow:Casting <dtype: 'int64'> labels to bool.\n",
      "INFO:tensorflow:Starting evaluation at 2018-07-24-19:15:55\n",
      "INFO:tensorflow:Graph was finalized.\n",
      "INFO:tensorflow:Restoring parameters from /var/folders/1s/qtqrxn550bl_09sghrlnzkgr0000gn/T/tmphdr55s83/model.ckpt-1000\n",
      "INFO:tensorflow:Running local_init_op.\n",
      "INFO:tensorflow:Done running local_init_op.\n",
      "INFO:tensorflow:Finished evaluation at 2018-07-24-19:15:57\n",
      "INFO:tensorflow:Saving dict for global step 1000: accuracy = 0.9191259, accuracy/baseline_label_mean = 0.08063021, accuracy/threshold_0.500000_mean = 0.9191259, auc = 0.72106814, auc_precision_recall = 0.20146617, global_step = 1000, labels/actual_label_mean = 0.08063021, labels/prediction_mean = 0.07653305, loss = 0.2574197, precision/positive_threshold_0.500000_mean = 0.14285715, recall/positive_threshold_0.500000_mean = 0.00060496066\n"
     ]
    },
    {
     "data": {
      "text/plain": [
       "{'accuracy': 0.9191259,\n",
       " 'accuracy/baseline_label_mean': 0.08063021,\n",
       " 'accuracy/threshold_0.500000_mean': 0.9191259,\n",
       " 'auc': 0.72106814,\n",
       " 'auc_precision_recall': 0.20146617,\n",
       " 'global_step': 1000,\n",
       " 'labels/actual_label_mean': 0.08063021,\n",
       " 'labels/prediction_mean': 0.07653305,\n",
       " 'loss': 0.2574197,\n",
       " 'precision/positive_threshold_0.500000_mean': 0.14285715,\n",
       " 'recall/positive_threshold_0.500000_mean': 0.00060496066}"
      ]
     },
     "execution_count": 23,
     "metadata": {},
     "output_type": "execute_result"
    }
   ],
   "source": [
    "dnn_clf.evaluate(x_test_prepared,y_test)"
   ]
  },
  {
   "cell_type": "markdown",
   "metadata": {},
   "source": [
    "# Lower level API"
   ]
  },
  {
   "cell_type": "code",
   "execution_count": 62,
   "metadata": {},
   "outputs": [],
   "source": [
    "n_inputs = 105\n",
    "n_hidden1 = 300\n",
    "n_hidden2 =100\n",
    "n_outputs = 2"
   ]
  },
  {
   "cell_type": "code",
   "execution_count": 63,
   "metadata": {},
   "outputs": [],
   "source": [
    "x = tf.placeholder(tf.float32,shape=(None,n_inputs),name='x')\n",
    "y = tf.placeholder(tf.int64,shape=(None,),name='y')"
   ]
  },
  {
   "cell_type": "code",
   "execution_count": 64,
   "metadata": {},
   "outputs": [],
   "source": [
    "def neutron_layer(x,n_neurons,name,activation=None):\n",
    "    with tf.name_scope(name):\n",
    "        n_inputs = int(x.shape[1])\n",
    "        stddev = 2/np.sqrt(n_inputs)\n",
    "        init = tf.truncated_normal((n_inputs,n_neurons),stddev=stddev)\n",
    "        w = tf.Variable(init,name='weights')\n",
    "        b = tf.Variable(tf.zeros([n_neurons]),name='biases')\n",
    "        z= tf.matmul(x,w)+b\n",
    "        if activation=='relu':\n",
    "            return tf.nn.relu(z)\n",
    "        else:\n",
    "            return z"
   ]
  },
  {
   "cell_type": "code",
   "execution_count": 65,
   "metadata": {},
   "outputs": [],
   "source": [
    "with tf.name_scope('dnn'):\n",
    "    hidden1 = neutron_layer(x_train_prepared,n_hidden1,'hidden1',activation='relu')\n",
    "    hidden2 = neutron_layer(hidden1,n_hidden2,'hidden2',activation='relu')\n",
    "    logits = neutron_layer(hidden2,n_outputs,'outputs')"
   ]
  },
  {
   "cell_type": "code",
   "execution_count": 66,
   "metadata": {},
   "outputs": [],
   "source": [
    "init=tf.global_variables_initializer()"
   ]
  },
  {
   "cell_type": "code",
   "execution_count": 67,
   "metadata": {},
   "outputs": [],
   "source": [
    "with tf.Session() as sess: \n",
    "    writer = tf.summary.FileWriter(\"./tmp/log\", sess.graph)\n",
    "    sess.run(init) \n",
    "    writer.close()"
   ]
  },
  {
   "cell_type": "markdown",
   "metadata": {},
   "source": [
    "# Fine tuning NN hyperparameters"
   ]
  },
  {
   "cell_type": "markdown",
   "metadata": {},
   "source": [
    " There are many hyperparameters to tweak in neural network. It is better to use randomized search or specific tll as Oscar."
   ]
  },
  {
   "cell_type": "markdown",
   "metadata": {},
   "source": [
    "## Number of hidden layers"
   ]
  },
  {
   "cell_type": "markdown",
   "metadata": {},
   "source": [
    "For many problems you can start with one or two hidden layers. For more complex problems,you can gradually ramp up the number of hidden layers until you start overfitting the training set."
   ]
  },
  {
   "cell_type": "markdown",
   "metadata": {},
   "source": [
    "## Number of neurons per hidden layer"
   ]
  },
  {
   "cell_type": "markdown",
   "metadata": {},
   "source": [
    "A common practice is to size them to form a funnel, with fewer and fewer neurons at each layer. The rationale is that many low-level features can coalesce into far fewer high-level features.\n",
    "\n",
    "You can use more layers and neurons then use early stopping  or dropout out to prevent it from overfitting."
   ]
  },
  {
   "cell_type": "markdown",
   "metadata": {},
   "source": [
    "## Activation function"
   ]
  },
  {
   "cell_type": "markdown",
   "metadata": {},
   "source": [
    "In most cases you can use ReLU activation in hidden layers.\n",
    "The softmax activation function is generrally a good choice for classification tasks. For regression tasks, you can use no activation function."
   ]
  },
  {
   "cell_type": "code",
   "execution_count": null,
   "metadata": {},
   "outputs": [],
   "source": []
  },
  {
   "cell_type": "code",
   "execution_count": null,
   "metadata": {},
   "outputs": [],
   "source": []
  }
 ],
 "metadata": {
  "kernelspec": {
   "display_name": "Python [conda env:tensorflow]",
   "language": "python",
   "name": "conda-env-tensorflow-py"
  },
  "language_info": {
   "codemirror_mode": {
    "name": "ipython",
    "version": 3
   },
   "file_extension": ".py",
   "mimetype": "text/x-python",
   "name": "python",
   "nbconvert_exporter": "python",
   "pygments_lexer": "ipython3",
   "version": "3.6.5"
  }
 },
 "nbformat": 4,
 "nbformat_minor": 2
}

{
 "cells": [
  {
   "cell_type": "code",
   "execution_count": 32,
   "metadata": {},
   "outputs": [],
   "source": [
    "import gym\n",
    "import numpy as np\n",
    "import tensorflow as tf \n",
    "from tensorflow.contrib.layers import fully_connected\n",
    "import matplotlib.pyplot as plt\n",
    "import matplotlib.animation as animation"
   ]
  },
  {
   "cell_type": "code",
   "execution_count": 5,
   "metadata": {},
   "outputs": [],
   "source": [
    "env = gym.make('CartPole-v0')"
   ]
  },
  {
   "cell_type": "markdown",
   "metadata": {},
   "source": [
    "# Basic policy"
   ]
  },
  {
   "cell_type": "code",
   "execution_count": 6,
   "metadata": {},
   "outputs": [],
   "source": [
    "def basic_policy(obs):\n",
    "    '''\n",
    "    take the observation which represent the status as input \n",
    "    and return the action which will be taken  \n",
    "    '''\n",
    "    angle=obs[2]\n",
    "    return 0 if angle<0 else 1"
   ]
  },
  {
   "cell_type": "code",
   "execution_count": 7,
   "metadata": {},
   "outputs": [],
   "source": [
    "totals=[] # save a sequence of action "
   ]
  },
  {
   "cell_type": "code",
   "execution_count": 8,
   "metadata": {},
   "outputs": [],
   "source": [
    "for episode in range(500):\n",
    "    episode_rewards=0\n",
    "    obs=env.reset()\n",
    "    for step in range(1000):\n",
    "        action = basic_policy(obs)\n",
    "        obs,reward,done,info = env.step(action)\n",
    "        episode_rewards+=reward\n",
    "        if done:\n",
    "            break\n",
    "    totals.append(episode_rewards)"
   ]
  },
  {
   "cell_type": "code",
   "execution_count": 9,
   "metadata": {},
   "outputs": [],
   "source": [
    "a = np.array(totals)"
   ]
  },
  {
   "cell_type": "code",
   "execution_count": 10,
   "metadata": {},
   "outputs": [
    {
     "data": {
      "text/plain": [
       "41.694"
      ]
     },
     "execution_count": 10,
     "metadata": {},
     "output_type": "execute_result"
    }
   ],
   "source": [
    "a.mean()"
   ]
  },
  {
   "cell_type": "code",
   "execution_count": 11,
   "metadata": {},
   "outputs": [
    {
     "data": {
      "text/plain": [
       "65.0"
      ]
     },
     "execution_count": 11,
     "metadata": {},
     "output_type": "execute_result"
    }
   ],
   "source": [
    "a.max()"
   ]
  },
  {
   "cell_type": "markdown",
   "metadata": {},
   "source": [
    "# Neural Network Policy\n",
    "using the neural network to learn what is the next action to be taken. "
   ]
  },
  {
   "cell_type": "code",
   "execution_count": 12,
   "metadata": {},
   "outputs": [],
   "source": [
    "tf.reset_default_graph()"
   ]
  },
  {
   "cell_type": "code",
   "execution_count": 13,
   "metadata": {},
   "outputs": [],
   "source": [
    "n_inputs = 4\n",
    "n_hidden = 4\n",
    "n_outputs = 1\n",
    "initializer = tf.contrib.layers.variance_scaling_initializer()"
   ]
  },
  {
   "cell_type": "code",
   "execution_count": 14,
   "metadata": {},
   "outputs": [],
   "source": [
    "x = tf.placeholder(tf.float32,shape=[None,n_inputs])\n",
    "hidden = fully_connected(x,n_hidden,activation_fn=tf.nn.elu,weights_initializer=initializer)\n",
    "logits = fully_connected(hidden,n_outputs,activation_fn=None,weights_initializer=initializer)\n",
    "outputs = tf.nn.sigmoid(logits)"
   ]
  },
  {
   "cell_type": "code",
   "execution_count": 15,
   "metadata": {},
   "outputs": [],
   "source": [
    "p_left_and_right = tf.concat(axis=1,values=[outputs,1-outputs])# if the shape of outputs is n*1 which n is the number of samples, values will be 2*n*1,p_left_and_right will be n*2\n",
    "action = tf.multinomial(tf.log(p_left_and_right),num_samples=1)# return a random action draw from the different class with the probability in p_left_and_right"
   ]
  },
  {
   "cell_type": "code",
   "execution_count": 16,
   "metadata": {},
   "outputs": [
    {
     "data": {
      "text/plain": [
       "'\\n# to under stand muitinomial\\nsamples = tf.multinomial(tf.log([[70,30.,1],[1,1,1]]), 2)\\nwith tf.Session() as sess:\\n    print(sess.run(samples)) \\n'"
      ]
     },
     "execution_count": 16,
     "metadata": {},
     "output_type": "execute_result"
    }
   ],
   "source": [
    "'''\n",
    "# to under stand muitinomial\n",
    "samples = tf.multinomial(tf.log([[70,30.,1],[1,1,1]]), 2)\n",
    "with tf.Session() as sess:\n",
    "    print(sess.run(samples)) \n",
    "'''"
   ]
  },
  {
   "cell_type": "code",
   "execution_count": 17,
   "metadata": {},
   "outputs": [],
   "source": [
    "y = 1.0-tf.to_float(action)\n",
    "learning_rate = 0.01\n",
    "cross_entropy = tf.nn.sigmoid_cross_entropy_with_logits(labels=y, logits=logits)\n",
    "optimizer = tf.train.AdamOptimizer(learning_rate)\n",
    "grads_and_vars = optimizer.compute_gradients(cross_entropy)\n",
    "gradients = [grad for grad, variable in grads_and_vars]"
   ]
  },
  {
   "cell_type": "code",
   "execution_count": 18,
   "metadata": {},
   "outputs": [],
   "source": [
    "gradient_placeholders = []\n",
    "grads_and_vars_feed = []\n",
    "for grad, variable in grads_and_vars:\n",
    "    gradient_placeholder = tf.placeholder(tf.float32,shape=grad.get_shape())\n",
    "    gradient_placeholders.append(gradient_placeholder)\n",
    "    grads_and_vars_feed.append((gradient_placeholder,variable))\n",
    "training_op = optimizer.apply_gradients(grads_and_vars_feed)"
   ]
  },
  {
   "cell_type": "code",
   "execution_count": 19,
   "metadata": {},
   "outputs": [],
   "source": [
    "init = tf.global_variables_initializer()\n",
    "saver = tf.train.Saver()"
   ]
  },
  {
   "cell_type": "code",
   "execution_count": 20,
   "metadata": {},
   "outputs": [],
   "source": [
    "def discount_rewards(rewards,discount_rate):\n",
    "    discount_rewards = np.empty(len(rewards))\n",
    "    cumulative_rewards = 0\n",
    "    for step in reversed(range(len(rewards))):\n",
    "        cumulative_rewards = rewards[step]+cumulative_rewards*discount_rate\n",
    "        discount_rewards[step] = cumulative_rewards\n",
    "    return discount_rewards"
   ]
  },
  {
   "cell_type": "code",
   "execution_count": 21,
   "metadata": {},
   "outputs": [],
   "source": [
    "def discount_and_normalize_rewards(all_rewards,discount_rate):\n",
    "    all_discounted_rewards = [discount_rewards(rewards,discount_rate) for rewards in all_rewards]\n",
    "    flat_rewards = np.concatenate(all_discounted_rewards)\n",
    "    reward_mean = flat_rewards.mean()\n",
    "    reward_std = flat_rewards.std()\n",
    "    return [(discounted_rewards-reward_mean)/reward_std for discounted_rewards  in all_discounted_rewards]"
   ]
  },
  {
   "cell_type": "code",
   "execution_count": 22,
   "metadata": {},
   "outputs": [
    {
     "data": {
      "text/plain": [
       "'\\ndef discount_reward(reward,discount_rate):\\n    discount_reward = reward\\n    total=0\\n    for i in range(len(reward)):\\n        total = reward[len(reward)-i-1]+total*discount_rate\\n        discount_reward[len(reward)-i-1] = total\\n    return discount_reward\\n'"
      ]
     },
     "execution_count": 22,
     "metadata": {},
     "output_type": "execute_result"
    }
   ],
   "source": [
    "'''\n",
    "def discount_reward(reward,discount_rate):\n",
    "    discount_reward = reward\n",
    "    total=0\n",
    "    for i in range(len(reward)):\n",
    "        total = reward[len(reward)-i-1]+total*discount_rate\n",
    "        discount_reward[len(reward)-i-1] = total\n",
    "    return discount_reward\n",
    "'''"
   ]
  },
  {
   "cell_type": "code",
   "execution_count": 50,
   "metadata": {},
   "outputs": [],
   "source": [
    "n_itertions = 500\n",
    "n_max_step = 100\n",
    "n_game_per_update = 10\n",
    "save_iterations = 10\n",
    "discount_rate = 0.95"
   ]
  },
  {
   "cell_type": "code",
   "execution_count": 51,
   "metadata": {},
   "outputs": [
    {
     "name": "stdout",
     "output_type": "stream",
     "text": [
      "13\n",
      "19\n",
      "37\n",
      "17\n",
      "26\n",
      "37\n",
      "18\n",
      "29\n",
      "23\n",
      "18\n",
      "22\n",
      "52\n",
      "27\n",
      "15\n",
      "20\n",
      "28\n",
      "39\n",
      "44\n",
      "13\n",
      "41\n",
      "12\n",
      "40\n",
      "31\n",
      "21\n",
      "14\n",
      "16\n",
      "25\n",
      "29\n",
      "37\n",
      "13\n",
      "24\n",
      "35\n",
      "25\n",
      "34\n",
      "29\n",
      "38\n",
      "25\n",
      "11\n",
      "9\n",
      "27\n",
      "28\n",
      "25\n",
      "15\n",
      "24\n",
      "15\n",
      "50\n",
      "36\n",
      "27\n",
      "35\n",
      "28\n"
     ]
    }
   ],
   "source": [
    "with tf.Session() as sess:\n",
    "    init.run()\n",
    "    for iteration in range(n_itertions):\n",
    "        all_rewards = []\n",
    "        all_gradients = []\n",
    "        for game in range(n_game_per_update):\n",
    "            current_rewards = []\n",
    "            current_gradients = []\n",
    "            obs = env.reset()\n",
    "            for step in range(n_max_step):\n",
    "                action_val,gradients_val = sess.run([action,gradients],feed_dict={x:obs.reshape(1,n_inputs)})\n",
    "                obs,reward,done,info = env.step(action_val[0][0])\n",
    "                current_rewards.append(reward)\n",
    "                current_gradients.append(gradients_val)\n",
    "                if done:\n",
    "                    break\n",
    "        all_rewards.append(current_rewards)\n",
    "        all_gradients.append(current_gradients)\n",
    "    all_rewards = discount_and_normalize_rewards(all_rewards,discount_rate)\n",
    "    feed_dict={}\n",
    "    for var_index,grad_placeholder in enumerate(gradient_placeholders ):\n",
    "        mean_gradients = np.mean([reward*all_gradients[game_index][step][var_index] \n",
    "                                  for game_index,rewards in enumerate(all_rewards)],axis=0)\n",
    "        feed_dict[grad_placeholder] = mean_gradients\n",
    "    sess.run(training_op, feed_dict=feed_dict)\n",
    "    if iteration%save_iterations==0:\n",
    "        saver.save(sess,'./nn_policy.ckpt')"
   ]
  }
 ],
 "metadata": {
  "kernelspec": {
   "display_name": "tfkernel",
   "language": "python",
   "name": "tfkernel"
  },
  "language_info": {
   "codemirror_mode": {
    "name": "ipython",
    "version": 3
   },
   "file_extension": ".py",
   "mimetype": "text/x-python",
   "name": "python",
   "nbconvert_exporter": "python",
   "pygments_lexer": "ipython3",
   "version": "3.6.4"
  }
 },
 "nbformat": 4,
 "nbformat_minor": 2
}
